{
 "cells": [
  {
   "cell_type": "markdown",
   "metadata": {
    "slideshow": {
     "slide_type": "slide"
    }
   },
   "source": [
    "# Part II - (Loan Decision factors)\n",
    "## by (Amr ELbana)"
   ]
  },
  {
   "cell_type": "code",
   "execution_count": 136,
   "metadata": {
    "slideshow": {
     "slide_type": "skip"
    }
   },
   "outputs": [],
   "source": [
    "# import all packages and set plots to be embedded inline\n",
    "import numpy as np\n",
    "import pandas as pd\n",
    "import matplotlib.pyplot as plt\n",
    "import seaborn as sb\n",
    "import warnings\n",
    "warnings.filterwarnings('ignore')\n",
    "%matplotlib inline\n",
    "\n",
    "# Show the full results\n",
    "pd.set_option('display.max_column', None)\n",
    "pd.set_option('display.max_rows', None)\n",
    "\n",
    "base_color = sb.color_palette()[0]\n"
   ]
  },
  {
   "cell_type": "markdown",
   "metadata": {
    "slideshow": {
     "slide_type": "skip"
    }
   },
   "source": [
    "> Load in your dataset and describe its properties through the questions below. Try and motivate your exploration goals through this section.\n"
   ]
  },
  {
   "cell_type": "code",
   "execution_count": 137,
   "metadata": {
    "slideshow": {
     "slide_type": "skip"
    }
   },
   "outputs": [
    {
     "data": {
      "text/html": [
       "<div>\n",
       "<style scoped>\n",
       "    .dataframe tbody tr th:only-of-type {\n",
       "        vertical-align: middle;\n",
       "    }\n",
       "\n",
       "    .dataframe tbody tr th {\n",
       "        vertical-align: top;\n",
       "    }\n",
       "\n",
       "    .dataframe thead th {\n",
       "        text-align: right;\n",
       "    }\n",
       "</style>\n",
       "<table border=\"1\" class=\"dataframe\">\n",
       "  <thead>\n",
       "    <tr style=\"text-align: right;\">\n",
       "      <th></th>\n",
       "      <th>ListingKey</th>\n",
       "      <th>ListingNumber</th>\n",
       "      <th>ListingCreationDate</th>\n",
       "      <th>CreditGrade</th>\n",
       "      <th>Term</th>\n",
       "      <th>LoanStatus</th>\n",
       "      <th>ClosedDate</th>\n",
       "      <th>BorrowerAPR</th>\n",
       "      <th>BorrowerRate</th>\n",
       "      <th>LenderYield</th>\n",
       "      <th>EstimatedEffectiveYield</th>\n",
       "      <th>EstimatedLoss</th>\n",
       "      <th>EstimatedReturn</th>\n",
       "      <th>ProsperRating (numeric)</th>\n",
       "      <th>ProsperRating (Alpha)</th>\n",
       "      <th>ProsperScore</th>\n",
       "      <th>ListingCategory (numeric)</th>\n",
       "      <th>BorrowerState</th>\n",
       "      <th>Occupation</th>\n",
       "      <th>EmploymentStatus</th>\n",
       "      <th>EmploymentStatusDuration</th>\n",
       "      <th>IsBorrowerHomeowner</th>\n",
       "      <th>CurrentlyInGroup</th>\n",
       "      <th>GroupKey</th>\n",
       "      <th>DateCreditPulled</th>\n",
       "      <th>CreditScoreRangeLower</th>\n",
       "      <th>CreditScoreRangeUpper</th>\n",
       "      <th>FirstRecordedCreditLine</th>\n",
       "      <th>CurrentCreditLines</th>\n",
       "      <th>OpenCreditLines</th>\n",
       "      <th>TotalCreditLinespast7years</th>\n",
       "      <th>OpenRevolvingAccounts</th>\n",
       "      <th>OpenRevolvingMonthlyPayment</th>\n",
       "      <th>InquiriesLast6Months</th>\n",
       "      <th>TotalInquiries</th>\n",
       "      <th>CurrentDelinquencies</th>\n",
       "      <th>AmountDelinquent</th>\n",
       "      <th>DelinquenciesLast7Years</th>\n",
       "      <th>PublicRecordsLast10Years</th>\n",
       "      <th>PublicRecordsLast12Months</th>\n",
       "      <th>RevolvingCreditBalance</th>\n",
       "      <th>BankcardUtilization</th>\n",
       "      <th>AvailableBankcardCredit</th>\n",
       "      <th>TotalTrades</th>\n",
       "      <th>TradesNeverDelinquent (percentage)</th>\n",
       "      <th>TradesOpenedLast6Months</th>\n",
       "      <th>DebtToIncomeRatio</th>\n",
       "      <th>IncomeRange</th>\n",
       "      <th>IncomeVerifiable</th>\n",
       "      <th>StatedMonthlyIncome</th>\n",
       "      <th>LoanKey</th>\n",
       "      <th>TotalProsperLoans</th>\n",
       "      <th>TotalProsperPaymentsBilled</th>\n",
       "      <th>OnTimeProsperPayments</th>\n",
       "      <th>ProsperPaymentsLessThanOneMonthLate</th>\n",
       "      <th>ProsperPaymentsOneMonthPlusLate</th>\n",
       "      <th>ProsperPrincipalBorrowed</th>\n",
       "      <th>ProsperPrincipalOutstanding</th>\n",
       "      <th>ScorexChangeAtTimeOfListing</th>\n",
       "      <th>LoanCurrentDaysDelinquent</th>\n",
       "      <th>LoanFirstDefaultedCycleNumber</th>\n",
       "      <th>LoanMonthsSinceOrigination</th>\n",
       "      <th>LoanNumber</th>\n",
       "      <th>LoanOriginalAmount</th>\n",
       "      <th>LoanOriginationDate</th>\n",
       "      <th>LoanOriginationQuarter</th>\n",
       "      <th>MemberKey</th>\n",
       "      <th>MonthlyLoanPayment</th>\n",
       "      <th>LP_CustomerPayments</th>\n",
       "      <th>LP_CustomerPrincipalPayments</th>\n",
       "      <th>LP_InterestandFees</th>\n",
       "      <th>LP_ServiceFees</th>\n",
       "      <th>LP_CollectionFees</th>\n",
       "      <th>LP_GrossPrincipalLoss</th>\n",
       "      <th>LP_NetPrincipalLoss</th>\n",
       "      <th>LP_NonPrincipalRecoverypayments</th>\n",
       "      <th>PercentFunded</th>\n",
       "      <th>Recommendations</th>\n",
       "      <th>InvestmentFromFriendsCount</th>\n",
       "      <th>InvestmentFromFriendsAmount</th>\n",
       "      <th>Investors</th>\n",
       "    </tr>\n",
       "  </thead>\n",
       "  <tbody>\n",
       "    <tr>\n",
       "      <th>0</th>\n",
       "      <td>1021339766868145413AB3B</td>\n",
       "      <td>193129</td>\n",
       "      <td>2007-08-26 19:09:29.263000000</td>\n",
       "      <td>C</td>\n",
       "      <td>36</td>\n",
       "      <td>Completed</td>\n",
       "      <td>2009-08-14 00:00:00</td>\n",
       "      <td>0.16516</td>\n",
       "      <td>0.1580</td>\n",
       "      <td>0.1380</td>\n",
       "      <td>NaN</td>\n",
       "      <td>NaN</td>\n",
       "      <td>NaN</td>\n",
       "      <td>NaN</td>\n",
       "      <td>NaN</td>\n",
       "      <td>NaN</td>\n",
       "      <td>0</td>\n",
       "      <td>CO</td>\n",
       "      <td>Other</td>\n",
       "      <td>Self-employed</td>\n",
       "      <td>2.0</td>\n",
       "      <td>True</td>\n",
       "      <td>True</td>\n",
       "      <td>NaN</td>\n",
       "      <td>2007-08-26 18:41:46.780000000</td>\n",
       "      <td>640.0</td>\n",
       "      <td>659.0</td>\n",
       "      <td>2001-10-11 00:00:00</td>\n",
       "      <td>5.0</td>\n",
       "      <td>4.0</td>\n",
       "      <td>12.0</td>\n",
       "      <td>1</td>\n",
       "      <td>24.0</td>\n",
       "      <td>3.0</td>\n",
       "      <td>3.0</td>\n",
       "      <td>2.0</td>\n",
       "      <td>472.0</td>\n",
       "      <td>4.0</td>\n",
       "      <td>0.0</td>\n",
       "      <td>0.0</td>\n",
       "      <td>0.0</td>\n",
       "      <td>0.00</td>\n",
       "      <td>1500.0</td>\n",
       "      <td>11.0</td>\n",
       "      <td>0.81</td>\n",
       "      <td>0.0</td>\n",
       "      <td>0.17</td>\n",
       "      <td>$25,000-49,999</td>\n",
       "      <td>True</td>\n",
       "      <td>3083.333333</td>\n",
       "      <td>E33A3400205839220442E84</td>\n",
       "      <td>NaN</td>\n",
       "      <td>NaN</td>\n",
       "      <td>NaN</td>\n",
       "      <td>NaN</td>\n",
       "      <td>NaN</td>\n",
       "      <td>NaN</td>\n",
       "      <td>NaN</td>\n",
       "      <td>NaN</td>\n",
       "      <td>0</td>\n",
       "      <td>NaN</td>\n",
       "      <td>78</td>\n",
       "      <td>19141</td>\n",
       "      <td>9425</td>\n",
       "      <td>2007-09-12 00:00:00</td>\n",
       "      <td>Q3 2007</td>\n",
       "      <td>1F3E3376408759268057EDA</td>\n",
       "      <td>330.43</td>\n",
       "      <td>11396.14</td>\n",
       "      <td>9425.00</td>\n",
       "      <td>1971.14</td>\n",
       "      <td>-133.18</td>\n",
       "      <td>0.0</td>\n",
       "      <td>0.0</td>\n",
       "      <td>0.0</td>\n",
       "      <td>0.0</td>\n",
       "      <td>1.0</td>\n",
       "      <td>0</td>\n",
       "      <td>0</td>\n",
       "      <td>0.0</td>\n",
       "      <td>258</td>\n",
       "    </tr>\n",
       "    <tr>\n",
       "      <th>1</th>\n",
       "      <td>10273602499503308B223C1</td>\n",
       "      <td>1209647</td>\n",
       "      <td>2014-02-27 08:28:07.900000000</td>\n",
       "      <td>NaN</td>\n",
       "      <td>36</td>\n",
       "      <td>Current</td>\n",
       "      <td>NaN</td>\n",
       "      <td>0.12016</td>\n",
       "      <td>0.0920</td>\n",
       "      <td>0.0820</td>\n",
       "      <td>0.07960</td>\n",
       "      <td>0.0249</td>\n",
       "      <td>0.05470</td>\n",
       "      <td>6.0</td>\n",
       "      <td>A</td>\n",
       "      <td>7.0</td>\n",
       "      <td>2</td>\n",
       "      <td>CO</td>\n",
       "      <td>Professional</td>\n",
       "      <td>Employed</td>\n",
       "      <td>44.0</td>\n",
       "      <td>False</td>\n",
       "      <td>False</td>\n",
       "      <td>NaN</td>\n",
       "      <td>2014-02-27 08:28:14</td>\n",
       "      <td>680.0</td>\n",
       "      <td>699.0</td>\n",
       "      <td>1996-03-18 00:00:00</td>\n",
       "      <td>14.0</td>\n",
       "      <td>14.0</td>\n",
       "      <td>29.0</td>\n",
       "      <td>13</td>\n",
       "      <td>389.0</td>\n",
       "      <td>3.0</td>\n",
       "      <td>5.0</td>\n",
       "      <td>0.0</td>\n",
       "      <td>0.0</td>\n",
       "      <td>0.0</td>\n",
       "      <td>1.0</td>\n",
       "      <td>0.0</td>\n",
       "      <td>3989.0</td>\n",
       "      <td>0.21</td>\n",
       "      <td>10266.0</td>\n",
       "      <td>29.0</td>\n",
       "      <td>1.00</td>\n",
       "      <td>2.0</td>\n",
       "      <td>0.18</td>\n",
       "      <td>$50,000-74,999</td>\n",
       "      <td>True</td>\n",
       "      <td>6125.000000</td>\n",
       "      <td>9E3B37071505919926B1D82</td>\n",
       "      <td>NaN</td>\n",
       "      <td>NaN</td>\n",
       "      <td>NaN</td>\n",
       "      <td>NaN</td>\n",
       "      <td>NaN</td>\n",
       "      <td>NaN</td>\n",
       "      <td>NaN</td>\n",
       "      <td>NaN</td>\n",
       "      <td>0</td>\n",
       "      <td>NaN</td>\n",
       "      <td>0</td>\n",
       "      <td>134815</td>\n",
       "      <td>10000</td>\n",
       "      <td>2014-03-03 00:00:00</td>\n",
       "      <td>Q1 2014</td>\n",
       "      <td>1D13370546739025387B2F4</td>\n",
       "      <td>318.93</td>\n",
       "      <td>0.00</td>\n",
       "      <td>0.00</td>\n",
       "      <td>0.00</td>\n",
       "      <td>0.00</td>\n",
       "      <td>0.0</td>\n",
       "      <td>0.0</td>\n",
       "      <td>0.0</td>\n",
       "      <td>0.0</td>\n",
       "      <td>1.0</td>\n",
       "      <td>0</td>\n",
       "      <td>0</td>\n",
       "      <td>0.0</td>\n",
       "      <td>1</td>\n",
       "    </tr>\n",
       "    <tr>\n",
       "      <th>2</th>\n",
       "      <td>0EE9337825851032864889A</td>\n",
       "      <td>81716</td>\n",
       "      <td>2007-01-05 15:00:47.090000000</td>\n",
       "      <td>HR</td>\n",
       "      <td>36</td>\n",
       "      <td>Completed</td>\n",
       "      <td>2009-12-17 00:00:00</td>\n",
       "      <td>0.28269</td>\n",
       "      <td>0.2750</td>\n",
       "      <td>0.2400</td>\n",
       "      <td>NaN</td>\n",
       "      <td>NaN</td>\n",
       "      <td>NaN</td>\n",
       "      <td>NaN</td>\n",
       "      <td>NaN</td>\n",
       "      <td>NaN</td>\n",
       "      <td>0</td>\n",
       "      <td>GA</td>\n",
       "      <td>Other</td>\n",
       "      <td>Not available</td>\n",
       "      <td>NaN</td>\n",
       "      <td>False</td>\n",
       "      <td>True</td>\n",
       "      <td>783C3371218786870A73D20</td>\n",
       "      <td>2007-01-02 14:09:10.060000000</td>\n",
       "      <td>480.0</td>\n",
       "      <td>499.0</td>\n",
       "      <td>2002-07-27 00:00:00</td>\n",
       "      <td>NaN</td>\n",
       "      <td>NaN</td>\n",
       "      <td>3.0</td>\n",
       "      <td>0</td>\n",
       "      <td>0.0</td>\n",
       "      <td>0.0</td>\n",
       "      <td>1.0</td>\n",
       "      <td>1.0</td>\n",
       "      <td>NaN</td>\n",
       "      <td>0.0</td>\n",
       "      <td>0.0</td>\n",
       "      <td>NaN</td>\n",
       "      <td>NaN</td>\n",
       "      <td>NaN</td>\n",
       "      <td>NaN</td>\n",
       "      <td>NaN</td>\n",
       "      <td>NaN</td>\n",
       "      <td>NaN</td>\n",
       "      <td>0.06</td>\n",
       "      <td>Not displayed</td>\n",
       "      <td>True</td>\n",
       "      <td>2083.333333</td>\n",
       "      <td>6954337960046817851BCB2</td>\n",
       "      <td>NaN</td>\n",
       "      <td>NaN</td>\n",
       "      <td>NaN</td>\n",
       "      <td>NaN</td>\n",
       "      <td>NaN</td>\n",
       "      <td>NaN</td>\n",
       "      <td>NaN</td>\n",
       "      <td>NaN</td>\n",
       "      <td>0</td>\n",
       "      <td>NaN</td>\n",
       "      <td>86</td>\n",
       "      <td>6466</td>\n",
       "      <td>3001</td>\n",
       "      <td>2007-01-17 00:00:00</td>\n",
       "      <td>Q1 2007</td>\n",
       "      <td>5F7033715035555618FA612</td>\n",
       "      <td>123.32</td>\n",
       "      <td>4186.63</td>\n",
       "      <td>3001.00</td>\n",
       "      <td>1185.63</td>\n",
       "      <td>-24.20</td>\n",
       "      <td>0.0</td>\n",
       "      <td>0.0</td>\n",
       "      <td>0.0</td>\n",
       "      <td>0.0</td>\n",
       "      <td>1.0</td>\n",
       "      <td>0</td>\n",
       "      <td>0</td>\n",
       "      <td>0.0</td>\n",
       "      <td>41</td>\n",
       "    </tr>\n",
       "    <tr>\n",
       "      <th>3</th>\n",
       "      <td>0EF5356002482715299901A</td>\n",
       "      <td>658116</td>\n",
       "      <td>2012-10-22 11:02:35.010000000</td>\n",
       "      <td>NaN</td>\n",
       "      <td>36</td>\n",
       "      <td>Current</td>\n",
       "      <td>NaN</td>\n",
       "      <td>0.12528</td>\n",
       "      <td>0.0974</td>\n",
       "      <td>0.0874</td>\n",
       "      <td>0.08490</td>\n",
       "      <td>0.0249</td>\n",
       "      <td>0.06000</td>\n",
       "      <td>6.0</td>\n",
       "      <td>A</td>\n",
       "      <td>9.0</td>\n",
       "      <td>16</td>\n",
       "      <td>GA</td>\n",
       "      <td>Skilled Labor</td>\n",
       "      <td>Employed</td>\n",
       "      <td>113.0</td>\n",
       "      <td>True</td>\n",
       "      <td>False</td>\n",
       "      <td>NaN</td>\n",
       "      <td>2012-10-22 11:02:32</td>\n",
       "      <td>800.0</td>\n",
       "      <td>819.0</td>\n",
       "      <td>1983-02-28 00:00:00</td>\n",
       "      <td>5.0</td>\n",
       "      <td>5.0</td>\n",
       "      <td>29.0</td>\n",
       "      <td>7</td>\n",
       "      <td>115.0</td>\n",
       "      <td>0.0</td>\n",
       "      <td>1.0</td>\n",
       "      <td>4.0</td>\n",
       "      <td>10056.0</td>\n",
       "      <td>14.0</td>\n",
       "      <td>0.0</td>\n",
       "      <td>0.0</td>\n",
       "      <td>1444.0</td>\n",
       "      <td>0.04</td>\n",
       "      <td>30754.0</td>\n",
       "      <td>26.0</td>\n",
       "      <td>0.76</td>\n",
       "      <td>0.0</td>\n",
       "      <td>0.15</td>\n",
       "      <td>$25,000-49,999</td>\n",
       "      <td>True</td>\n",
       "      <td>2875.000000</td>\n",
       "      <td>A0393664465886295619C51</td>\n",
       "      <td>NaN</td>\n",
       "      <td>NaN</td>\n",
       "      <td>NaN</td>\n",
       "      <td>NaN</td>\n",
       "      <td>NaN</td>\n",
       "      <td>NaN</td>\n",
       "      <td>NaN</td>\n",
       "      <td>NaN</td>\n",
       "      <td>0</td>\n",
       "      <td>NaN</td>\n",
       "      <td>16</td>\n",
       "      <td>77296</td>\n",
       "      <td>10000</td>\n",
       "      <td>2012-11-01 00:00:00</td>\n",
       "      <td>Q4 2012</td>\n",
       "      <td>9ADE356069835475068C6D2</td>\n",
       "      <td>321.45</td>\n",
       "      <td>5143.20</td>\n",
       "      <td>4091.09</td>\n",
       "      <td>1052.11</td>\n",
       "      <td>-108.01</td>\n",
       "      <td>0.0</td>\n",
       "      <td>0.0</td>\n",
       "      <td>0.0</td>\n",
       "      <td>0.0</td>\n",
       "      <td>1.0</td>\n",
       "      <td>0</td>\n",
       "      <td>0</td>\n",
       "      <td>0.0</td>\n",
       "      <td>158</td>\n",
       "    </tr>\n",
       "    <tr>\n",
       "      <th>4</th>\n",
       "      <td>0F023589499656230C5E3E2</td>\n",
       "      <td>909464</td>\n",
       "      <td>2013-09-14 18:38:39.097000000</td>\n",
       "      <td>NaN</td>\n",
       "      <td>36</td>\n",
       "      <td>Current</td>\n",
       "      <td>NaN</td>\n",
       "      <td>0.24614</td>\n",
       "      <td>0.2085</td>\n",
       "      <td>0.1985</td>\n",
       "      <td>0.18316</td>\n",
       "      <td>0.0925</td>\n",
       "      <td>0.09066</td>\n",
       "      <td>3.0</td>\n",
       "      <td>D</td>\n",
       "      <td>4.0</td>\n",
       "      <td>2</td>\n",
       "      <td>MN</td>\n",
       "      <td>Executive</td>\n",
       "      <td>Employed</td>\n",
       "      <td>44.0</td>\n",
       "      <td>True</td>\n",
       "      <td>False</td>\n",
       "      <td>NaN</td>\n",
       "      <td>2013-09-14 18:38:44</td>\n",
       "      <td>680.0</td>\n",
       "      <td>699.0</td>\n",
       "      <td>2004-02-20 00:00:00</td>\n",
       "      <td>19.0</td>\n",
       "      <td>19.0</td>\n",
       "      <td>49.0</td>\n",
       "      <td>6</td>\n",
       "      <td>220.0</td>\n",
       "      <td>1.0</td>\n",
       "      <td>9.0</td>\n",
       "      <td>0.0</td>\n",
       "      <td>0.0</td>\n",
       "      <td>0.0</td>\n",
       "      <td>0.0</td>\n",
       "      <td>0.0</td>\n",
       "      <td>6193.0</td>\n",
       "      <td>0.81</td>\n",
       "      <td>695.0</td>\n",
       "      <td>39.0</td>\n",
       "      <td>0.95</td>\n",
       "      <td>2.0</td>\n",
       "      <td>0.26</td>\n",
       "      <td>$100,000+</td>\n",
       "      <td>True</td>\n",
       "      <td>9583.333333</td>\n",
       "      <td>A180369302188889200689E</td>\n",
       "      <td>1.0</td>\n",
       "      <td>11.0</td>\n",
       "      <td>11.0</td>\n",
       "      <td>0.0</td>\n",
       "      <td>0.0</td>\n",
       "      <td>11000.0</td>\n",
       "      <td>9947.9</td>\n",
       "      <td>NaN</td>\n",
       "      <td>0</td>\n",
       "      <td>NaN</td>\n",
       "      <td>6</td>\n",
       "      <td>102670</td>\n",
       "      <td>15000</td>\n",
       "      <td>2013-09-20 00:00:00</td>\n",
       "      <td>Q3 2013</td>\n",
       "      <td>36CE356043264555721F06C</td>\n",
       "      <td>563.97</td>\n",
       "      <td>2819.85</td>\n",
       "      <td>1563.22</td>\n",
       "      <td>1256.63</td>\n",
       "      <td>-60.27</td>\n",
       "      <td>0.0</td>\n",
       "      <td>0.0</td>\n",
       "      <td>0.0</td>\n",
       "      <td>0.0</td>\n",
       "      <td>1.0</td>\n",
       "      <td>0</td>\n",
       "      <td>0</td>\n",
       "      <td>0.0</td>\n",
       "      <td>20</td>\n",
       "    </tr>\n",
       "  </tbody>\n",
       "</table>\n",
       "</div>"
      ],
      "text/plain": [
       "                ListingKey  ListingNumber            ListingCreationDate  \\\n",
       "0  1021339766868145413AB3B         193129  2007-08-26 19:09:29.263000000   \n",
       "1  10273602499503308B223C1        1209647  2014-02-27 08:28:07.900000000   \n",
       "2  0EE9337825851032864889A          81716  2007-01-05 15:00:47.090000000   \n",
       "3  0EF5356002482715299901A         658116  2012-10-22 11:02:35.010000000   \n",
       "4  0F023589499656230C5E3E2         909464  2013-09-14 18:38:39.097000000   \n",
       "\n",
       "  CreditGrade  Term LoanStatus           ClosedDate  BorrowerAPR  \\\n",
       "0           C    36  Completed  2009-08-14 00:00:00      0.16516   \n",
       "1         NaN    36    Current                  NaN      0.12016   \n",
       "2          HR    36  Completed  2009-12-17 00:00:00      0.28269   \n",
       "3         NaN    36    Current                  NaN      0.12528   \n",
       "4         NaN    36    Current                  NaN      0.24614   \n",
       "\n",
       "   BorrowerRate  LenderYield  EstimatedEffectiveYield  EstimatedLoss  \\\n",
       "0        0.1580       0.1380                      NaN            NaN   \n",
       "1        0.0920       0.0820                  0.07960         0.0249   \n",
       "2        0.2750       0.2400                      NaN            NaN   \n",
       "3        0.0974       0.0874                  0.08490         0.0249   \n",
       "4        0.2085       0.1985                  0.18316         0.0925   \n",
       "\n",
       "   EstimatedReturn  ProsperRating (numeric) ProsperRating (Alpha)  \\\n",
       "0              NaN                      NaN                   NaN   \n",
       "1          0.05470                      6.0                     A   \n",
       "2              NaN                      NaN                   NaN   \n",
       "3          0.06000                      6.0                     A   \n",
       "4          0.09066                      3.0                     D   \n",
       "\n",
       "   ProsperScore  ListingCategory (numeric) BorrowerState     Occupation  \\\n",
       "0           NaN                          0            CO          Other   \n",
       "1           7.0                          2            CO   Professional   \n",
       "2           NaN                          0            GA          Other   \n",
       "3           9.0                         16            GA  Skilled Labor   \n",
       "4           4.0                          2            MN      Executive   \n",
       "\n",
       "  EmploymentStatus  EmploymentStatusDuration  IsBorrowerHomeowner  \\\n",
       "0    Self-employed                       2.0                 True   \n",
       "1         Employed                      44.0                False   \n",
       "2    Not available                       NaN                False   \n",
       "3         Employed                     113.0                 True   \n",
       "4         Employed                      44.0                 True   \n",
       "\n",
       "   CurrentlyInGroup                 GroupKey               DateCreditPulled  \\\n",
       "0              True                      NaN  2007-08-26 18:41:46.780000000   \n",
       "1             False                      NaN            2014-02-27 08:28:14   \n",
       "2              True  783C3371218786870A73D20  2007-01-02 14:09:10.060000000   \n",
       "3             False                      NaN            2012-10-22 11:02:32   \n",
       "4             False                      NaN            2013-09-14 18:38:44   \n",
       "\n",
       "   CreditScoreRangeLower  CreditScoreRangeUpper FirstRecordedCreditLine  \\\n",
       "0                  640.0                  659.0     2001-10-11 00:00:00   \n",
       "1                  680.0                  699.0     1996-03-18 00:00:00   \n",
       "2                  480.0                  499.0     2002-07-27 00:00:00   \n",
       "3                  800.0                  819.0     1983-02-28 00:00:00   \n",
       "4                  680.0                  699.0     2004-02-20 00:00:00   \n",
       "\n",
       "   CurrentCreditLines  OpenCreditLines  TotalCreditLinespast7years  \\\n",
       "0                 5.0              4.0                        12.0   \n",
       "1                14.0             14.0                        29.0   \n",
       "2                 NaN              NaN                         3.0   \n",
       "3                 5.0              5.0                        29.0   \n",
       "4                19.0             19.0                        49.0   \n",
       "\n",
       "   OpenRevolvingAccounts  OpenRevolvingMonthlyPayment  InquiriesLast6Months  \\\n",
       "0                      1                         24.0                   3.0   \n",
       "1                     13                        389.0                   3.0   \n",
       "2                      0                          0.0                   0.0   \n",
       "3                      7                        115.0                   0.0   \n",
       "4                      6                        220.0                   1.0   \n",
       "\n",
       "   TotalInquiries  CurrentDelinquencies  AmountDelinquent  \\\n",
       "0             3.0                   2.0             472.0   \n",
       "1             5.0                   0.0               0.0   \n",
       "2             1.0                   1.0               NaN   \n",
       "3             1.0                   4.0           10056.0   \n",
       "4             9.0                   0.0               0.0   \n",
       "\n",
       "   DelinquenciesLast7Years  PublicRecordsLast10Years  \\\n",
       "0                      4.0                       0.0   \n",
       "1                      0.0                       1.0   \n",
       "2                      0.0                       0.0   \n",
       "3                     14.0                       0.0   \n",
       "4                      0.0                       0.0   \n",
       "\n",
       "   PublicRecordsLast12Months  RevolvingCreditBalance  BankcardUtilization  \\\n",
       "0                        0.0                     0.0                 0.00   \n",
       "1                        0.0                  3989.0                 0.21   \n",
       "2                        NaN                     NaN                  NaN   \n",
       "3                        0.0                  1444.0                 0.04   \n",
       "4                        0.0                  6193.0                 0.81   \n",
       "\n",
       "   AvailableBankcardCredit  TotalTrades  TradesNeverDelinquent (percentage)  \\\n",
       "0                   1500.0         11.0                                0.81   \n",
       "1                  10266.0         29.0                                1.00   \n",
       "2                      NaN          NaN                                 NaN   \n",
       "3                  30754.0         26.0                                0.76   \n",
       "4                    695.0         39.0                                0.95   \n",
       "\n",
       "   TradesOpenedLast6Months  DebtToIncomeRatio     IncomeRange  \\\n",
       "0                      0.0               0.17  $25,000-49,999   \n",
       "1                      2.0               0.18  $50,000-74,999   \n",
       "2                      NaN               0.06   Not displayed   \n",
       "3                      0.0               0.15  $25,000-49,999   \n",
       "4                      2.0               0.26       $100,000+   \n",
       "\n",
       "   IncomeVerifiable  StatedMonthlyIncome                  LoanKey  \\\n",
       "0              True          3083.333333  E33A3400205839220442E84   \n",
       "1              True          6125.000000  9E3B37071505919926B1D82   \n",
       "2              True          2083.333333  6954337960046817851BCB2   \n",
       "3              True          2875.000000  A0393664465886295619C51   \n",
       "4              True          9583.333333  A180369302188889200689E   \n",
       "\n",
       "   TotalProsperLoans  TotalProsperPaymentsBilled  OnTimeProsperPayments  \\\n",
       "0                NaN                         NaN                    NaN   \n",
       "1                NaN                         NaN                    NaN   \n",
       "2                NaN                         NaN                    NaN   \n",
       "3                NaN                         NaN                    NaN   \n",
       "4                1.0                        11.0                   11.0   \n",
       "\n",
       "   ProsperPaymentsLessThanOneMonthLate  ProsperPaymentsOneMonthPlusLate  \\\n",
       "0                                  NaN                              NaN   \n",
       "1                                  NaN                              NaN   \n",
       "2                                  NaN                              NaN   \n",
       "3                                  NaN                              NaN   \n",
       "4                                  0.0                              0.0   \n",
       "\n",
       "   ProsperPrincipalBorrowed  ProsperPrincipalOutstanding  \\\n",
       "0                       NaN                          NaN   \n",
       "1                       NaN                          NaN   \n",
       "2                       NaN                          NaN   \n",
       "3                       NaN                          NaN   \n",
       "4                   11000.0                       9947.9   \n",
       "\n",
       "   ScorexChangeAtTimeOfListing  LoanCurrentDaysDelinquent  \\\n",
       "0                          NaN                          0   \n",
       "1                          NaN                          0   \n",
       "2                          NaN                          0   \n",
       "3                          NaN                          0   \n",
       "4                          NaN                          0   \n",
       "\n",
       "   LoanFirstDefaultedCycleNumber  LoanMonthsSinceOrigination  LoanNumber  \\\n",
       "0                            NaN                          78       19141   \n",
       "1                            NaN                           0      134815   \n",
       "2                            NaN                          86        6466   \n",
       "3                            NaN                          16       77296   \n",
       "4                            NaN                           6      102670   \n",
       "\n",
       "   LoanOriginalAmount  LoanOriginationDate LoanOriginationQuarter  \\\n",
       "0                9425  2007-09-12 00:00:00                Q3 2007   \n",
       "1               10000  2014-03-03 00:00:00                Q1 2014   \n",
       "2                3001  2007-01-17 00:00:00                Q1 2007   \n",
       "3               10000  2012-11-01 00:00:00                Q4 2012   \n",
       "4               15000  2013-09-20 00:00:00                Q3 2013   \n",
       "\n",
       "                 MemberKey  MonthlyLoanPayment  LP_CustomerPayments  \\\n",
       "0  1F3E3376408759268057EDA              330.43             11396.14   \n",
       "1  1D13370546739025387B2F4              318.93                 0.00   \n",
       "2  5F7033715035555618FA612              123.32              4186.63   \n",
       "3  9ADE356069835475068C6D2              321.45              5143.20   \n",
       "4  36CE356043264555721F06C              563.97              2819.85   \n",
       "\n",
       "   LP_CustomerPrincipalPayments  LP_InterestandFees  LP_ServiceFees  \\\n",
       "0                       9425.00             1971.14         -133.18   \n",
       "1                          0.00                0.00            0.00   \n",
       "2                       3001.00             1185.63          -24.20   \n",
       "3                       4091.09             1052.11         -108.01   \n",
       "4                       1563.22             1256.63          -60.27   \n",
       "\n",
       "   LP_CollectionFees  LP_GrossPrincipalLoss  LP_NetPrincipalLoss  \\\n",
       "0                0.0                    0.0                  0.0   \n",
       "1                0.0                    0.0                  0.0   \n",
       "2                0.0                    0.0                  0.0   \n",
       "3                0.0                    0.0                  0.0   \n",
       "4                0.0                    0.0                  0.0   \n",
       "\n",
       "   LP_NonPrincipalRecoverypayments  PercentFunded  Recommendations  \\\n",
       "0                              0.0            1.0                0   \n",
       "1                              0.0            1.0                0   \n",
       "2                              0.0            1.0                0   \n",
       "3                              0.0            1.0                0   \n",
       "4                              0.0            1.0                0   \n",
       "\n",
       "   InvestmentFromFriendsCount  InvestmentFromFriendsAmount  Investors  \n",
       "0                           0                          0.0        258  \n",
       "1                           0                          0.0          1  \n",
       "2                           0                          0.0         41  \n",
       "3                           0                          0.0        158  \n",
       "4                           0                          0.0         20  "
      ]
     },
     "execution_count": 137,
     "metadata": {},
     "output_type": "execute_result"
    }
   ],
   "source": [
    "df = pd.read_csv('Data/prosperLoanData.csv')\n",
    "df.head()"
   ]
  },
  {
   "cell_type": "code",
   "execution_count": 138,
   "metadata": {
    "slideshow": {
     "slide_type": "skip"
    }
   },
   "outputs": [
    {
     "data": {
      "text/plain": [
       "(113937, 81)"
      ]
     },
     "execution_count": 138,
     "metadata": {},
     "output_type": "execute_result"
    }
   ],
   "source": [
    "# What is the structure of your dataset?\n",
    "df.shape"
   ]
  },
  {
   "cell_type": "code",
   "execution_count": 139,
   "metadata": {
    "slideshow": {
     "slide_type": "skip"
    }
   },
   "outputs": [
    {
     "name": "stdout",
     "output_type": "stream",
     "text": [
      "<class 'pandas.core.frame.DataFrame'>\n",
      "RangeIndex: 113937 entries, 0 to 113936\n",
      "Data columns (total 81 columns):\n",
      " #   Column                               Non-Null Count   Dtype  \n",
      "---  ------                               --------------   -----  \n",
      " 0   ListingKey                           113937 non-null  object \n",
      " 1   ListingNumber                        113937 non-null  int64  \n",
      " 2   ListingCreationDate                  113937 non-null  object \n",
      " 3   CreditGrade                          28953 non-null   object \n",
      " 4   Term                                 113937 non-null  int64  \n",
      " 5   LoanStatus                           113937 non-null  object \n",
      " 6   ClosedDate                           55089 non-null   object \n",
      " 7   BorrowerAPR                          113912 non-null  float64\n",
      " 8   BorrowerRate                         113937 non-null  float64\n",
      " 9   LenderYield                          113937 non-null  float64\n",
      " 10  EstimatedEffectiveYield              84853 non-null   float64\n",
      " 11  EstimatedLoss                        84853 non-null   float64\n",
      " 12  EstimatedReturn                      84853 non-null   float64\n",
      " 13  ProsperRating (numeric)              84853 non-null   float64\n",
      " 14  ProsperRating (Alpha)                84853 non-null   object \n",
      " 15  ProsperScore                         84853 non-null   float64\n",
      " 16  ListingCategory (numeric)            113937 non-null  int64  \n",
      " 17  BorrowerState                        108422 non-null  object \n",
      " 18  Occupation                           110349 non-null  object \n",
      " 19  EmploymentStatus                     111682 non-null  object \n",
      " 20  EmploymentStatusDuration             106312 non-null  float64\n",
      " 21  IsBorrowerHomeowner                  113937 non-null  bool   \n",
      " 22  CurrentlyInGroup                     113937 non-null  bool   \n",
      " 23  GroupKey                             13341 non-null   object \n",
      " 24  DateCreditPulled                     113937 non-null  object \n",
      " 25  CreditScoreRangeLower                113346 non-null  float64\n",
      " 26  CreditScoreRangeUpper                113346 non-null  float64\n",
      " 27  FirstRecordedCreditLine              113240 non-null  object \n",
      " 28  CurrentCreditLines                   106333 non-null  float64\n",
      " 29  OpenCreditLines                      106333 non-null  float64\n",
      " 30  TotalCreditLinespast7years           113240 non-null  float64\n",
      " 31  OpenRevolvingAccounts                113937 non-null  int64  \n",
      " 32  OpenRevolvingMonthlyPayment          113937 non-null  float64\n",
      " 33  InquiriesLast6Months                 113240 non-null  float64\n",
      " 34  TotalInquiries                       112778 non-null  float64\n",
      " 35  CurrentDelinquencies                 113240 non-null  float64\n",
      " 36  AmountDelinquent                     106315 non-null  float64\n",
      " 37  DelinquenciesLast7Years              112947 non-null  float64\n",
      " 38  PublicRecordsLast10Years             113240 non-null  float64\n",
      " 39  PublicRecordsLast12Months            106333 non-null  float64\n",
      " 40  RevolvingCreditBalance               106333 non-null  float64\n",
      " 41  BankcardUtilization                  106333 non-null  float64\n",
      " 42  AvailableBankcardCredit              106393 non-null  float64\n",
      " 43  TotalTrades                          106393 non-null  float64\n",
      " 44  TradesNeverDelinquent (percentage)   106393 non-null  float64\n",
      " 45  TradesOpenedLast6Months              106393 non-null  float64\n",
      " 46  DebtToIncomeRatio                    105383 non-null  float64\n",
      " 47  IncomeRange                          113937 non-null  object \n",
      " 48  IncomeVerifiable                     113937 non-null  bool   \n",
      " 49  StatedMonthlyIncome                  113937 non-null  float64\n",
      " 50  LoanKey                              113937 non-null  object \n",
      " 51  TotalProsperLoans                    22085 non-null   float64\n",
      " 52  TotalProsperPaymentsBilled           22085 non-null   float64\n",
      " 53  OnTimeProsperPayments                22085 non-null   float64\n",
      " 54  ProsperPaymentsLessThanOneMonthLate  22085 non-null   float64\n",
      " 55  ProsperPaymentsOneMonthPlusLate      22085 non-null   float64\n",
      " 56  ProsperPrincipalBorrowed             22085 non-null   float64\n",
      " 57  ProsperPrincipalOutstanding          22085 non-null   float64\n",
      " 58  ScorexChangeAtTimeOfListing          18928 non-null   float64\n",
      " 59  LoanCurrentDaysDelinquent            113937 non-null  int64  \n",
      " 60  LoanFirstDefaultedCycleNumber        16952 non-null   float64\n",
      " 61  LoanMonthsSinceOrigination           113937 non-null  int64  \n",
      " 62  LoanNumber                           113937 non-null  int64  \n",
      " 63  LoanOriginalAmount                   113937 non-null  int64  \n",
      " 64  LoanOriginationDate                  113937 non-null  object \n",
      " 65  LoanOriginationQuarter               113937 non-null  object \n",
      " 66  MemberKey                            113937 non-null  object \n",
      " 67  MonthlyLoanPayment                   113937 non-null  float64\n",
      " 68  LP_CustomerPayments                  113937 non-null  float64\n",
      " 69  LP_CustomerPrincipalPayments         113937 non-null  float64\n",
      " 70  LP_InterestandFees                   113937 non-null  float64\n",
      " 71  LP_ServiceFees                       113937 non-null  float64\n",
      " 72  LP_CollectionFees                    113937 non-null  float64\n",
      " 73  LP_GrossPrincipalLoss                113937 non-null  float64\n",
      " 74  LP_NetPrincipalLoss                  113937 non-null  float64\n",
      " 75  LP_NonPrincipalRecoverypayments      113937 non-null  float64\n",
      " 76  PercentFunded                        113937 non-null  float64\n",
      " 77  Recommendations                      113937 non-null  int64  \n",
      " 78  InvestmentFromFriendsCount           113937 non-null  int64  \n",
      " 79  InvestmentFromFriendsAmount          113937 non-null  float64\n",
      " 80  Investors                            113937 non-null  int64  \n",
      "dtypes: bool(3), float64(50), int64(11), object(17)\n",
      "memory usage: 68.1+ MB\n"
     ]
    }
   ],
   "source": [
    "### What is/are the main feature(s) of interest in your dataset?\n",
    "df.info()"
   ]
  },
  {
   "cell_type": "markdown",
   "metadata": {
    "slideshow": {
     "slide_type": "skip"
    }
   },
   "source": [
    "\n",
    "###### What is the structure of your dataset?\n",
    "\n",
    "There are 113937 instances in the dataset with 81 variables."
   ]
  },
  {
   "cell_type": "markdown",
   "metadata": {
    "slideshow": {
     "slide_type": "skip"
    }
   },
   "source": [
    "##### What is/are the main feature(s) of interest in your dataset?\n",
    "The main features are ProsperRating, occupation and employment state"
   ]
  },
  {
   "cell_type": "markdown",
   "metadata": {
    "slideshow": {
     "slide_type": "skip"
    }
   },
   "source": [
    "##### What features in the dataset do you think will help support your investigation into your feature(s) of interest?\n",
    "\n",
    "Though there are many features to explore, I suspect the following borrower features will have the largest effect on the performance of the loan:\n",
    "\n",
    "IncomeRange \n",
    "DebToIncomeRatio\n",
    "CreditGrade \n",
    "ProsperRating\n",
    "EmploymentStatus                     "
   ]
  },
  {
   "cell_type": "code",
   "execution_count": 140,
   "metadata": {
    "slideshow": {
     "slide_type": "skip"
    }
   },
   "outputs": [],
   "source": [
    "loan = df.copy()"
   ]
  },
  {
   "cell_type": "markdown",
   "metadata": {
    "slideshow": {
     "slide_type": "skip"
    }
   },
   "source": [
    "###### Selecting Important features According to the dictionary list of features"
   ]
  },
  {
   "cell_type": "code",
   "execution_count": 141,
   "metadata": {
    "slideshow": {
     "slide_type": "skip"
    }
   },
   "outputs": [],
   "source": [
    "cols = ['CreditGrade', 'LoanOriginalAmount','LoanStatus','ListingCategory (numeric)',\n",
    "        'BorrowerAPR','BorrowerRate','StatedMonthlyIncome', 'ProsperScore', 'Occupation',\n",
    "        'IsBorrowerHomeowner', 'Term','EmploymentStatus', 'TotalInquiries','DebtToIncomeRatio','MonthlyLoanPayment',\n",
    "        'TotalTrades','Investors', 'AvailableBankcardCredit', 'CreditScoreRangeLower', 'CreditScoreRangeUpper']"
   ]
  },
  {
   "cell_type": "code",
   "execution_count": 142,
   "metadata": {
    "slideshow": {
     "slide_type": "skip"
    }
   },
   "outputs": [],
   "source": [
    "loan = loan[cols]"
   ]
  },
  {
   "cell_type": "code",
   "execution_count": 143,
   "metadata": {
    "slideshow": {
     "slide_type": "skip"
    }
   },
   "outputs": [
    {
     "data": {
      "text/html": [
       "<div>\n",
       "<style scoped>\n",
       "    .dataframe tbody tr th:only-of-type {\n",
       "        vertical-align: middle;\n",
       "    }\n",
       "\n",
       "    .dataframe tbody tr th {\n",
       "        vertical-align: top;\n",
       "    }\n",
       "\n",
       "    .dataframe thead th {\n",
       "        text-align: right;\n",
       "    }\n",
       "</style>\n",
       "<table border=\"1\" class=\"dataframe\">\n",
       "  <thead>\n",
       "    <tr style=\"text-align: right;\">\n",
       "      <th></th>\n",
       "      <th>CreditGrade</th>\n",
       "      <th>LoanOriginalAmount</th>\n",
       "      <th>LoanStatus</th>\n",
       "      <th>ListingCategory (numeric)</th>\n",
       "      <th>BorrowerAPR</th>\n",
       "      <th>BorrowerRate</th>\n",
       "      <th>StatedMonthlyIncome</th>\n",
       "      <th>ProsperScore</th>\n",
       "      <th>Occupation</th>\n",
       "      <th>IsBorrowerHomeowner</th>\n",
       "      <th>Term</th>\n",
       "      <th>EmploymentStatus</th>\n",
       "      <th>TotalInquiries</th>\n",
       "      <th>DebtToIncomeRatio</th>\n",
       "      <th>MonthlyLoanPayment</th>\n",
       "      <th>TotalTrades</th>\n",
       "      <th>Investors</th>\n",
       "      <th>AvailableBankcardCredit</th>\n",
       "      <th>CreditScoreRangeLower</th>\n",
       "      <th>CreditScoreRangeUpper</th>\n",
       "    </tr>\n",
       "  </thead>\n",
       "  <tbody>\n",
       "    <tr>\n",
       "      <th>0</th>\n",
       "      <td>C</td>\n",
       "      <td>9425</td>\n",
       "      <td>Completed</td>\n",
       "      <td>0</td>\n",
       "      <td>0.16516</td>\n",
       "      <td>0.1580</td>\n",
       "      <td>3083.333333</td>\n",
       "      <td>NaN</td>\n",
       "      <td>Other</td>\n",
       "      <td>True</td>\n",
       "      <td>36</td>\n",
       "      <td>Self-employed</td>\n",
       "      <td>3.0</td>\n",
       "      <td>0.17</td>\n",
       "      <td>330.43</td>\n",
       "      <td>11.0</td>\n",
       "      <td>258</td>\n",
       "      <td>1500.0</td>\n",
       "      <td>640.0</td>\n",
       "      <td>659.0</td>\n",
       "    </tr>\n",
       "    <tr>\n",
       "      <th>1</th>\n",
       "      <td>NaN</td>\n",
       "      <td>10000</td>\n",
       "      <td>Current</td>\n",
       "      <td>2</td>\n",
       "      <td>0.12016</td>\n",
       "      <td>0.0920</td>\n",
       "      <td>6125.000000</td>\n",
       "      <td>7.0</td>\n",
       "      <td>Professional</td>\n",
       "      <td>False</td>\n",
       "      <td>36</td>\n",
       "      <td>Employed</td>\n",
       "      <td>5.0</td>\n",
       "      <td>0.18</td>\n",
       "      <td>318.93</td>\n",
       "      <td>29.0</td>\n",
       "      <td>1</td>\n",
       "      <td>10266.0</td>\n",
       "      <td>680.0</td>\n",
       "      <td>699.0</td>\n",
       "    </tr>\n",
       "    <tr>\n",
       "      <th>2</th>\n",
       "      <td>HR</td>\n",
       "      <td>3001</td>\n",
       "      <td>Completed</td>\n",
       "      <td>0</td>\n",
       "      <td>0.28269</td>\n",
       "      <td>0.2750</td>\n",
       "      <td>2083.333333</td>\n",
       "      <td>NaN</td>\n",
       "      <td>Other</td>\n",
       "      <td>False</td>\n",
       "      <td>36</td>\n",
       "      <td>Not available</td>\n",
       "      <td>1.0</td>\n",
       "      <td>0.06</td>\n",
       "      <td>123.32</td>\n",
       "      <td>NaN</td>\n",
       "      <td>41</td>\n",
       "      <td>NaN</td>\n",
       "      <td>480.0</td>\n",
       "      <td>499.0</td>\n",
       "    </tr>\n",
       "    <tr>\n",
       "      <th>3</th>\n",
       "      <td>NaN</td>\n",
       "      <td>10000</td>\n",
       "      <td>Current</td>\n",
       "      <td>16</td>\n",
       "      <td>0.12528</td>\n",
       "      <td>0.0974</td>\n",
       "      <td>2875.000000</td>\n",
       "      <td>9.0</td>\n",
       "      <td>Skilled Labor</td>\n",
       "      <td>True</td>\n",
       "      <td>36</td>\n",
       "      <td>Employed</td>\n",
       "      <td>1.0</td>\n",
       "      <td>0.15</td>\n",
       "      <td>321.45</td>\n",
       "      <td>26.0</td>\n",
       "      <td>158</td>\n",
       "      <td>30754.0</td>\n",
       "      <td>800.0</td>\n",
       "      <td>819.0</td>\n",
       "    </tr>\n",
       "    <tr>\n",
       "      <th>4</th>\n",
       "      <td>NaN</td>\n",
       "      <td>15000</td>\n",
       "      <td>Current</td>\n",
       "      <td>2</td>\n",
       "      <td>0.24614</td>\n",
       "      <td>0.2085</td>\n",
       "      <td>9583.333333</td>\n",
       "      <td>4.0</td>\n",
       "      <td>Executive</td>\n",
       "      <td>True</td>\n",
       "      <td>36</td>\n",
       "      <td>Employed</td>\n",
       "      <td>9.0</td>\n",
       "      <td>0.26</td>\n",
       "      <td>563.97</td>\n",
       "      <td>39.0</td>\n",
       "      <td>20</td>\n",
       "      <td>695.0</td>\n",
       "      <td>680.0</td>\n",
       "      <td>699.0</td>\n",
       "    </tr>\n",
       "  </tbody>\n",
       "</table>\n",
       "</div>"
      ],
      "text/plain": [
       "  CreditGrade  LoanOriginalAmount LoanStatus  ListingCategory (numeric)  \\\n",
       "0           C                9425  Completed                          0   \n",
       "1         NaN               10000    Current                          2   \n",
       "2          HR                3001  Completed                          0   \n",
       "3         NaN               10000    Current                         16   \n",
       "4         NaN               15000    Current                          2   \n",
       "\n",
       "   BorrowerAPR  BorrowerRate  StatedMonthlyIncome  ProsperScore  \\\n",
       "0      0.16516        0.1580          3083.333333           NaN   \n",
       "1      0.12016        0.0920          6125.000000           7.0   \n",
       "2      0.28269        0.2750          2083.333333           NaN   \n",
       "3      0.12528        0.0974          2875.000000           9.0   \n",
       "4      0.24614        0.2085          9583.333333           4.0   \n",
       "\n",
       "      Occupation  IsBorrowerHomeowner  Term EmploymentStatus  TotalInquiries  \\\n",
       "0          Other                 True    36    Self-employed             3.0   \n",
       "1   Professional                False    36         Employed             5.0   \n",
       "2          Other                False    36    Not available             1.0   \n",
       "3  Skilled Labor                 True    36         Employed             1.0   \n",
       "4      Executive                 True    36         Employed             9.0   \n",
       "\n",
       "   DebtToIncomeRatio  MonthlyLoanPayment  TotalTrades  Investors  \\\n",
       "0               0.17              330.43         11.0        258   \n",
       "1               0.18              318.93         29.0          1   \n",
       "2               0.06              123.32          NaN         41   \n",
       "3               0.15              321.45         26.0        158   \n",
       "4               0.26              563.97         39.0         20   \n",
       "\n",
       "   AvailableBankcardCredit  CreditScoreRangeLower  CreditScoreRangeUpper  \n",
       "0                   1500.0                  640.0                  659.0  \n",
       "1                  10266.0                  680.0                  699.0  \n",
       "2                      NaN                  480.0                  499.0  \n",
       "3                  30754.0                  800.0                  819.0  \n",
       "4                    695.0                  680.0                  699.0  "
      ]
     },
     "execution_count": 143,
     "metadata": {},
     "output_type": "execute_result"
    }
   ],
   "source": [
    "loan.head()"
   ]
  },
  {
   "cell_type": "code",
   "execution_count": 144,
   "metadata": {
    "slideshow": {
     "slide_type": "skip"
    }
   },
   "outputs": [
    {
     "data": {
      "text/plain": [
       "(113937, 20)"
      ]
     },
     "execution_count": 144,
     "metadata": {},
     "output_type": "execute_result"
    }
   ],
   "source": [
    "loan.shape"
   ]
  },
  {
   "cell_type": "markdown",
   "metadata": {
    "slideshow": {
     "slide_type": "skip"
    }
   },
   "source": [
    "###### Remove highly null rows or columns"
   ]
  },
  {
   "cell_type": "code",
   "execution_count": 145,
   "metadata": {
    "slideshow": {
     "slide_type": "skip"
    }
   },
   "outputs": [
    {
     "data": {
      "text/plain": [
       "CreditGrade                  0.745886\n",
       "LoanOriginalAmount           0.000000\n",
       "LoanStatus                   0.000000\n",
       "ListingCategory (numeric)    0.000000\n",
       "BorrowerAPR                  0.000219\n",
       "BorrowerRate                 0.000000\n",
       "StatedMonthlyIncome          0.000000\n",
       "ProsperScore                 0.255264\n",
       "Occupation                   0.031491\n",
       "IsBorrowerHomeowner          0.000000\n",
       "Term                         0.000000\n",
       "EmploymentStatus             0.019792\n",
       "TotalInquiries               0.010172\n",
       "DebtToIncomeRatio            0.075077\n",
       "MonthlyLoanPayment           0.000000\n",
       "TotalTrades                  0.066212\n",
       "Investors                    0.000000\n",
       "AvailableBankcardCredit      0.066212\n",
       "CreditScoreRangeLower        0.005187\n",
       "CreditScoreRangeUpper        0.005187\n",
       "dtype: float64"
      ]
     },
     "execution_count": 145,
     "metadata": {},
     "output_type": "execute_result"
    }
   ],
   "source": [
    "percentCol = loan.isnull().sum()/loan.shape[0]\n",
    "percentCol"
   ]
  },
  {
   "cell_type": "code",
   "execution_count": 146,
   "metadata": {
    "slideshow": {
     "slide_type": "skip"
    }
   },
   "outputs": [],
   "source": [
    "dropCol = percentCol[percentCol>0.3].index"
   ]
  },
  {
   "cell_type": "code",
   "execution_count": 147,
   "metadata": {
    "slideshow": {
     "slide_type": "skip"
    }
   },
   "outputs": [],
   "source": [
    "# Drop columns that have over 30 % \n",
    "loan.drop(dropCol, axis =1, inplace = True)"
   ]
  },
  {
   "cell_type": "code",
   "execution_count": 148,
   "metadata": {
    "slideshow": {
     "slide_type": "skip"
    }
   },
   "outputs": [
    {
     "data": {
      "text/plain": [
       "0"
      ]
     },
     "execution_count": 148,
     "metadata": {},
     "output_type": "execute_result"
    }
   ],
   "source": [
    "sum(loan.duplicated())"
   ]
  },
  {
   "cell_type": "code",
   "execution_count": 149,
   "metadata": {
    "slideshow": {
     "slide_type": "skip"
    }
   },
   "outputs": [
    {
     "data": {
      "text/plain": [
       "(113937, 19)"
      ]
     },
     "execution_count": 149,
     "metadata": {},
     "output_type": "execute_result"
    }
   ],
   "source": [
    "# Drop duplicates\n",
    "loan = loan.drop_duplicates(keep='last')\n",
    "loan.shape"
   ]
  },
  {
   "cell_type": "code",
   "execution_count": 150,
   "metadata": {
    "slideshow": {
     "slide_type": "skip"
    }
   },
   "outputs": [
    {
     "data": {
      "text/html": [
       "<div>\n",
       "<style scoped>\n",
       "    .dataframe tbody tr th:only-of-type {\n",
       "        vertical-align: middle;\n",
       "    }\n",
       "\n",
       "    .dataframe tbody tr th {\n",
       "        vertical-align: top;\n",
       "    }\n",
       "\n",
       "    .dataframe thead th {\n",
       "        text-align: right;\n",
       "    }\n",
       "</style>\n",
       "<table border=\"1\" class=\"dataframe\">\n",
       "  <thead>\n",
       "    <tr style=\"text-align: right;\">\n",
       "      <th></th>\n",
       "      <th>ProsperScore</th>\n",
       "    </tr>\n",
       "  </thead>\n",
       "  <tbody>\n",
       "    <tr>\n",
       "      <th>0</th>\n",
       "      <td>NaN</td>\n",
       "    </tr>\n",
       "    <tr>\n",
       "      <th>1</th>\n",
       "      <td>7.0</td>\n",
       "    </tr>\n",
       "    <tr>\n",
       "      <th>2</th>\n",
       "      <td>NaN</td>\n",
       "    </tr>\n",
       "    <tr>\n",
       "      <th>3</th>\n",
       "      <td>9.0</td>\n",
       "    </tr>\n",
       "    <tr>\n",
       "      <th>4</th>\n",
       "      <td>4.0</td>\n",
       "    </tr>\n",
       "  </tbody>\n",
       "</table>\n",
       "</div>"
      ],
      "text/plain": [
       "   ProsperScore\n",
       "0           NaN\n",
       "1           7.0\n",
       "2           NaN\n",
       "3           9.0\n",
       "4           4.0"
      ]
     },
     "execution_count": 150,
     "metadata": {},
     "output_type": "execute_result"
    }
   ],
   "source": [
    "loan[['ProsperScore']].head()"
   ]
  },
  {
   "cell_type": "code",
   "execution_count": 151,
   "metadata": {
    "slideshow": {
     "slide_type": "skip"
    }
   },
   "outputs": [
    {
     "name": "stdout",
     "output_type": "stream",
     "text": [
      "<class 'pandas.core.frame.DataFrame'>\n",
      "Int64Index: 113937 entries, 0 to 113936\n",
      "Data columns (total 19 columns):\n",
      " #   Column                     Non-Null Count   Dtype  \n",
      "---  ------                     --------------   -----  \n",
      " 0   LoanOriginalAmount         113937 non-null  int64  \n",
      " 1   LoanStatus                 113937 non-null  object \n",
      " 2   ListingCategory (numeric)  113937 non-null  int64  \n",
      " 3   BorrowerAPR                113912 non-null  float64\n",
      " 4   BorrowerRate               113937 non-null  float64\n",
      " 5   StatedMonthlyIncome        113937 non-null  float64\n",
      " 6   ProsperScore               84853 non-null   float64\n",
      " 7   Occupation                 110349 non-null  object \n",
      " 8   IsBorrowerHomeowner        113937 non-null  bool   \n",
      " 9   Term                       113937 non-null  int64  \n",
      " 10  EmploymentStatus           111682 non-null  object \n",
      " 11  TotalInquiries             112778 non-null  float64\n",
      " 12  DebtToIncomeRatio          105383 non-null  float64\n",
      " 13  MonthlyLoanPayment         113937 non-null  float64\n",
      " 14  TotalTrades                106393 non-null  float64\n",
      " 15  Investors                  113937 non-null  int64  \n",
      " 16  AvailableBankcardCredit    106393 non-null  float64\n",
      " 17  CreditScoreRangeLower      113346 non-null  float64\n",
      " 18  CreditScoreRangeUpper      113346 non-null  float64\n",
      "dtypes: bool(1), float64(11), int64(4), object(3)\n",
      "memory usage: 16.6+ MB\n"
     ]
    }
   ],
   "source": [
    "loan.info()"
   ]
  },
  {
   "cell_type": "code",
   "execution_count": 152,
   "metadata": {
    "slideshow": {
     "slide_type": "skip"
    }
   },
   "outputs": [],
   "source": [
    "loan = loan[loan.ProsperScore.notnull()]"
   ]
  },
  {
   "cell_type": "code",
   "execution_count": 153,
   "metadata": {
    "slideshow": {
     "slide_type": "skip"
    }
   },
   "outputs": [
    {
     "data": {
      "text/plain": [
       "(84853, 19)"
      ]
     },
     "execution_count": 153,
     "metadata": {},
     "output_type": "execute_result"
    }
   ],
   "source": [
    "loan.shape"
   ]
  },
  {
   "cell_type": "code",
   "execution_count": 154,
   "metadata": {
    "slideshow": {
     "slide_type": "skip"
    }
   },
   "outputs": [
    {
     "data": {
      "text/html": [
       "<div>\n",
       "<style scoped>\n",
       "    .dataframe tbody tr th:only-of-type {\n",
       "        vertical-align: middle;\n",
       "    }\n",
       "\n",
       "    .dataframe tbody tr th {\n",
       "        vertical-align: top;\n",
       "    }\n",
       "\n",
       "    .dataframe thead th {\n",
       "        text-align: right;\n",
       "    }\n",
       "</style>\n",
       "<table border=\"1\" class=\"dataframe\">\n",
       "  <thead>\n",
       "    <tr style=\"text-align: right;\">\n",
       "      <th></th>\n",
       "      <th>LoanOriginalAmount</th>\n",
       "      <th>LoanStatus</th>\n",
       "      <th>ListingCategory (numeric)</th>\n",
       "      <th>BorrowerAPR</th>\n",
       "      <th>BorrowerRate</th>\n",
       "      <th>StatedMonthlyIncome</th>\n",
       "      <th>ProsperScore</th>\n",
       "      <th>Occupation</th>\n",
       "      <th>IsBorrowerHomeowner</th>\n",
       "      <th>Term</th>\n",
       "      <th>EmploymentStatus</th>\n",
       "      <th>TotalInquiries</th>\n",
       "      <th>DebtToIncomeRatio</th>\n",
       "      <th>MonthlyLoanPayment</th>\n",
       "      <th>TotalTrades</th>\n",
       "      <th>Investors</th>\n",
       "      <th>AvailableBankcardCredit</th>\n",
       "      <th>CreditScoreRangeLower</th>\n",
       "      <th>CreditScoreRangeUpper</th>\n",
       "    </tr>\n",
       "  </thead>\n",
       "  <tbody>\n",
       "    <tr>\n",
       "      <th>1</th>\n",
       "      <td>10000</td>\n",
       "      <td>Current</td>\n",
       "      <td>2</td>\n",
       "      <td>0.12016</td>\n",
       "      <td>0.0920</td>\n",
       "      <td>6125.000000</td>\n",
       "      <td>7.0</td>\n",
       "      <td>Professional</td>\n",
       "      <td>False</td>\n",
       "      <td>36</td>\n",
       "      <td>Employed</td>\n",
       "      <td>5.0</td>\n",
       "      <td>0.18</td>\n",
       "      <td>318.93</td>\n",
       "      <td>29.0</td>\n",
       "      <td>1</td>\n",
       "      <td>10266.0</td>\n",
       "      <td>680.0</td>\n",
       "      <td>699.0</td>\n",
       "    </tr>\n",
       "    <tr>\n",
       "      <th>3</th>\n",
       "      <td>10000</td>\n",
       "      <td>Current</td>\n",
       "      <td>16</td>\n",
       "      <td>0.12528</td>\n",
       "      <td>0.0974</td>\n",
       "      <td>2875.000000</td>\n",
       "      <td>9.0</td>\n",
       "      <td>Skilled Labor</td>\n",
       "      <td>True</td>\n",
       "      <td>36</td>\n",
       "      <td>Employed</td>\n",
       "      <td>1.0</td>\n",
       "      <td>0.15</td>\n",
       "      <td>321.45</td>\n",
       "      <td>26.0</td>\n",
       "      <td>158</td>\n",
       "      <td>30754.0</td>\n",
       "      <td>800.0</td>\n",
       "      <td>819.0</td>\n",
       "    </tr>\n",
       "    <tr>\n",
       "      <th>4</th>\n",
       "      <td>15000</td>\n",
       "      <td>Current</td>\n",
       "      <td>2</td>\n",
       "      <td>0.24614</td>\n",
       "      <td>0.2085</td>\n",
       "      <td>9583.333333</td>\n",
       "      <td>4.0</td>\n",
       "      <td>Executive</td>\n",
       "      <td>True</td>\n",
       "      <td>36</td>\n",
       "      <td>Employed</td>\n",
       "      <td>9.0</td>\n",
       "      <td>0.26</td>\n",
       "      <td>563.97</td>\n",
       "      <td>39.0</td>\n",
       "      <td>20</td>\n",
       "      <td>695.0</td>\n",
       "      <td>680.0</td>\n",
       "      <td>699.0</td>\n",
       "    </tr>\n",
       "    <tr>\n",
       "      <th>5</th>\n",
       "      <td>15000</td>\n",
       "      <td>Current</td>\n",
       "      <td>1</td>\n",
       "      <td>0.15425</td>\n",
       "      <td>0.1314</td>\n",
       "      <td>8333.333333</td>\n",
       "      <td>10.0</td>\n",
       "      <td>Professional</td>\n",
       "      <td>True</td>\n",
       "      <td>60</td>\n",
       "      <td>Employed</td>\n",
       "      <td>2.0</td>\n",
       "      <td>0.36</td>\n",
       "      <td>342.37</td>\n",
       "      <td>47.0</td>\n",
       "      <td>1</td>\n",
       "      <td>86509.0</td>\n",
       "      <td>740.0</td>\n",
       "      <td>759.0</td>\n",
       "    </tr>\n",
       "    <tr>\n",
       "      <th>6</th>\n",
       "      <td>3000</td>\n",
       "      <td>Current</td>\n",
       "      <td>1</td>\n",
       "      <td>0.31032</td>\n",
       "      <td>0.2712</td>\n",
       "      <td>2083.333333</td>\n",
       "      <td>2.0</td>\n",
       "      <td>Sales - Retail</td>\n",
       "      <td>False</td>\n",
       "      <td>36</td>\n",
       "      <td>Employed</td>\n",
       "      <td>0.0</td>\n",
       "      <td>0.27</td>\n",
       "      <td>122.67</td>\n",
       "      <td>16.0</td>\n",
       "      <td>1</td>\n",
       "      <td>1929.0</td>\n",
       "      <td>680.0</td>\n",
       "      <td>699.0</td>\n",
       "    </tr>\n",
       "  </tbody>\n",
       "</table>\n",
       "</div>"
      ],
      "text/plain": [
       "   LoanOriginalAmount LoanStatus  ListingCategory (numeric)  BorrowerAPR  \\\n",
       "1               10000    Current                          2      0.12016   \n",
       "3               10000    Current                         16      0.12528   \n",
       "4               15000    Current                          2      0.24614   \n",
       "5               15000    Current                          1      0.15425   \n",
       "6                3000    Current                          1      0.31032   \n",
       "\n",
       "   BorrowerRate  StatedMonthlyIncome  ProsperScore      Occupation  \\\n",
       "1        0.0920          6125.000000           7.0    Professional   \n",
       "3        0.0974          2875.000000           9.0   Skilled Labor   \n",
       "4        0.2085          9583.333333           4.0       Executive   \n",
       "5        0.1314          8333.333333          10.0    Professional   \n",
       "6        0.2712          2083.333333           2.0  Sales - Retail   \n",
       "\n",
       "   IsBorrowerHomeowner  Term EmploymentStatus  TotalInquiries  \\\n",
       "1                False    36         Employed             5.0   \n",
       "3                 True    36         Employed             1.0   \n",
       "4                 True    36         Employed             9.0   \n",
       "5                 True    60         Employed             2.0   \n",
       "6                False    36         Employed             0.0   \n",
       "\n",
       "   DebtToIncomeRatio  MonthlyLoanPayment  TotalTrades  Investors  \\\n",
       "1               0.18              318.93         29.0          1   \n",
       "3               0.15              321.45         26.0        158   \n",
       "4               0.26              563.97         39.0         20   \n",
       "5               0.36              342.37         47.0          1   \n",
       "6               0.27              122.67         16.0          1   \n",
       "\n",
       "   AvailableBankcardCredit  CreditScoreRangeLower  CreditScoreRangeUpper  \n",
       "1                  10266.0                  680.0                  699.0  \n",
       "3                  30754.0                  800.0                  819.0  \n",
       "4                    695.0                  680.0                  699.0  \n",
       "5                  86509.0                  740.0                  759.0  \n",
       "6                   1929.0                  680.0                  699.0  "
      ]
     },
     "execution_count": 154,
     "metadata": {},
     "output_type": "execute_result"
    }
   ],
   "source": [
    "loan.head()"
   ]
  },
  {
   "cell_type": "code",
   "execution_count": 155,
   "metadata": {
    "slideshow": {
     "slide_type": "skip"
    }
   },
   "outputs": [
    {
     "data": {
      "text/plain": [
       "LoanOriginalAmount              0\n",
       "LoanStatus                      0\n",
       "ListingCategory (numeric)       0\n",
       "BorrowerAPR                     0\n",
       "BorrowerRate                    0\n",
       "StatedMonthlyIncome             0\n",
       "ProsperScore                    0\n",
       "Occupation                   1333\n",
       "IsBorrowerHomeowner             0\n",
       "Term                            0\n",
       "EmploymentStatus                0\n",
       "TotalInquiries                  0\n",
       "DebtToIncomeRatio            7296\n",
       "MonthlyLoanPayment              0\n",
       "TotalTrades                     0\n",
       "Investors                       0\n",
       "AvailableBankcardCredit         0\n",
       "CreditScoreRangeLower           0\n",
       "CreditScoreRangeUpper           0\n",
       "dtype: int64"
      ]
     },
     "execution_count": 155,
     "metadata": {},
     "output_type": "execute_result"
    }
   ],
   "source": [
    "loan.isnull().sum()"
   ]
  },
  {
   "cell_type": "code",
   "execution_count": 156,
   "metadata": {
    "slideshow": {
     "slide_type": "skip"
    }
   },
   "outputs": [
    {
     "data": {
      "text/html": [
       "<div>\n",
       "<style scoped>\n",
       "    .dataframe tbody tr th:only-of-type {\n",
       "        vertical-align: middle;\n",
       "    }\n",
       "\n",
       "    .dataframe tbody tr th {\n",
       "        vertical-align: top;\n",
       "    }\n",
       "\n",
       "    .dataframe thead th {\n",
       "        text-align: right;\n",
       "    }\n",
       "</style>\n",
       "<table border=\"1\" class=\"dataframe\">\n",
       "  <thead>\n",
       "    <tr style=\"text-align: right;\">\n",
       "      <th></th>\n",
       "      <th>LoanOriginalAmount</th>\n",
       "      <th>LoanStatus</th>\n",
       "      <th>ListingCategory (numeric)</th>\n",
       "      <th>BorrowerAPR</th>\n",
       "      <th>BorrowerRate</th>\n",
       "      <th>StatedMonthlyIncome</th>\n",
       "      <th>ProsperScore</th>\n",
       "      <th>Occupation</th>\n",
       "      <th>IsBorrowerHomeowner</th>\n",
       "      <th>Term</th>\n",
       "      <th>EmploymentStatus</th>\n",
       "      <th>TotalInquiries</th>\n",
       "      <th>DebtToIncomeRatio</th>\n",
       "      <th>MonthlyLoanPayment</th>\n",
       "      <th>TotalTrades</th>\n",
       "      <th>Investors</th>\n",
       "      <th>AvailableBankcardCredit</th>\n",
       "      <th>CreditScoreRangeLower</th>\n",
       "      <th>CreditScoreRangeUpper</th>\n",
       "    </tr>\n",
       "  </thead>\n",
       "  <tbody>\n",
       "    <tr>\n",
       "      <th>34</th>\n",
       "      <td>10000</td>\n",
       "      <td>Current</td>\n",
       "      <td>1</td>\n",
       "      <td>0.22966</td>\n",
       "      <td>0.1920</td>\n",
       "      <td>4058.333333</td>\n",
       "      <td>5.0</td>\n",
       "      <td>NaN</td>\n",
       "      <td>True</td>\n",
       "      <td>36</td>\n",
       "      <td>Other</td>\n",
       "      <td>5.0</td>\n",
       "      <td>0.17</td>\n",
       "      <td>367.57</td>\n",
       "      <td>14.0</td>\n",
       "      <td>1</td>\n",
       "      <td>266.0</td>\n",
       "      <td>640.0</td>\n",
       "      <td>659.0</td>\n",
       "    </tr>\n",
       "    <tr>\n",
       "      <th>161</th>\n",
       "      <td>4000</td>\n",
       "      <td>Current</td>\n",
       "      <td>1</td>\n",
       "      <td>0.17151</td>\n",
       "      <td>0.1355</td>\n",
       "      <td>2429.166667</td>\n",
       "      <td>4.0</td>\n",
       "      <td>NaN</td>\n",
       "      <td>True</td>\n",
       "      <td>36</td>\n",
       "      <td>Other</td>\n",
       "      <td>2.0</td>\n",
       "      <td>0.15</td>\n",
       "      <td>135.84</td>\n",
       "      <td>22.0</td>\n",
       "      <td>2</td>\n",
       "      <td>1284.0</td>\n",
       "      <td>680.0</td>\n",
       "      <td>699.0</td>\n",
       "    </tr>\n",
       "    <tr>\n",
       "      <th>229</th>\n",
       "      <td>4000</td>\n",
       "      <td>Current</td>\n",
       "      <td>1</td>\n",
       "      <td>0.22773</td>\n",
       "      <td>0.1905</td>\n",
       "      <td>1250.000000</td>\n",
       "      <td>4.0</td>\n",
       "      <td>NaN</td>\n",
       "      <td>False</td>\n",
       "      <td>36</td>\n",
       "      <td>Other</td>\n",
       "      <td>0.0</td>\n",
       "      <td>0.39</td>\n",
       "      <td>146.73</td>\n",
       "      <td>7.0</td>\n",
       "      <td>1</td>\n",
       "      <td>751.0</td>\n",
       "      <td>700.0</td>\n",
       "      <td>719.0</td>\n",
       "    </tr>\n",
       "    <tr>\n",
       "      <th>237</th>\n",
       "      <td>4000</td>\n",
       "      <td>Current</td>\n",
       "      <td>1</td>\n",
       "      <td>0.19859</td>\n",
       "      <td>0.1620</td>\n",
       "      <td>2166.666667</td>\n",
       "      <td>3.0</td>\n",
       "      <td>NaN</td>\n",
       "      <td>False</td>\n",
       "      <td>36</td>\n",
       "      <td>Other</td>\n",
       "      <td>5.0</td>\n",
       "      <td>0.35</td>\n",
       "      <td>141.02</td>\n",
       "      <td>25.0</td>\n",
       "      <td>1</td>\n",
       "      <td>1006.0</td>\n",
       "      <td>700.0</td>\n",
       "      <td>719.0</td>\n",
       "    </tr>\n",
       "    <tr>\n",
       "      <th>349</th>\n",
       "      <td>4000</td>\n",
       "      <td>Current</td>\n",
       "      <td>1</td>\n",
       "      <td>0.17090</td>\n",
       "      <td>0.1349</td>\n",
       "      <td>2000.000000</td>\n",
       "      <td>5.0</td>\n",
       "      <td>NaN</td>\n",
       "      <td>False</td>\n",
       "      <td>36</td>\n",
       "      <td>Other</td>\n",
       "      <td>0.0</td>\n",
       "      <td>0.14</td>\n",
       "      <td>135.72</td>\n",
       "      <td>8.0</td>\n",
       "      <td>1</td>\n",
       "      <td>3600.0</td>\n",
       "      <td>760.0</td>\n",
       "      <td>779.0</td>\n",
       "    </tr>\n",
       "  </tbody>\n",
       "</table>\n",
       "</div>"
      ],
      "text/plain": [
       "     LoanOriginalAmount LoanStatus  ListingCategory (numeric)  BorrowerAPR  \\\n",
       "34                10000    Current                          1      0.22966   \n",
       "161                4000    Current                          1      0.17151   \n",
       "229                4000    Current                          1      0.22773   \n",
       "237                4000    Current                          1      0.19859   \n",
       "349                4000    Current                          1      0.17090   \n",
       "\n",
       "     BorrowerRate  StatedMonthlyIncome  ProsperScore Occupation  \\\n",
       "34         0.1920          4058.333333           5.0        NaN   \n",
       "161        0.1355          2429.166667           4.0        NaN   \n",
       "229        0.1905          1250.000000           4.0        NaN   \n",
       "237        0.1620          2166.666667           3.0        NaN   \n",
       "349        0.1349          2000.000000           5.0        NaN   \n",
       "\n",
       "     IsBorrowerHomeowner  Term EmploymentStatus  TotalInquiries  \\\n",
       "34                  True    36            Other             5.0   \n",
       "161                 True    36            Other             2.0   \n",
       "229                False    36            Other             0.0   \n",
       "237                False    36            Other             5.0   \n",
       "349                False    36            Other             0.0   \n",
       "\n",
       "     DebtToIncomeRatio  MonthlyLoanPayment  TotalTrades  Investors  \\\n",
       "34                0.17              367.57         14.0          1   \n",
       "161               0.15              135.84         22.0          2   \n",
       "229               0.39              146.73          7.0          1   \n",
       "237               0.35              141.02         25.0          1   \n",
       "349               0.14              135.72          8.0          1   \n",
       "\n",
       "     AvailableBankcardCredit  CreditScoreRangeLower  CreditScoreRangeUpper  \n",
       "34                     266.0                  640.0                  659.0  \n",
       "161                   1284.0                  680.0                  699.0  \n",
       "229                    751.0                  700.0                  719.0  \n",
       "237                   1006.0                  700.0                  719.0  \n",
       "349                   3600.0                  760.0                  779.0  "
      ]
     },
     "execution_count": 156,
     "metadata": {},
     "output_type": "execute_result"
    }
   ],
   "source": [
    "loan[loan.Occupation.isnull()].head()"
   ]
  },
  {
   "cell_type": "code",
   "execution_count": 157,
   "metadata": {
    "slideshow": {
     "slide_type": "skip"
    }
   },
   "outputs": [
    {
     "data": {
      "text/plain": [
       "Other                                 21317\n",
       "Professional                          10542\n",
       "Executive                              3468\n",
       "Computer Programmer                    3236\n",
       "Teacher                                2888\n",
       "Analyst                                2735\n",
       "Administrative Assistant               2708\n",
       "Accountant/CPA                         2574\n",
       "Sales - Commission                     2350\n",
       "Skilled Labor                          2180\n",
       "Nurse (RN)                             2159\n",
       "Clerical                               2116\n",
       "Sales - Retail                         2029\n",
       "Retail Management                      2001\n",
       "Truck Driver                           1366\n",
       "Construction                           1326\n",
       "Police Officer/Correction Officer      1277\n",
       "Laborer                                1217\n",
       "Civil Service                          1139\n",
       "Engineer - Mechanical                  1135\n",
       "Food Service Management                1005\n",
       "Engineer - Electrical                   900\n",
       "Medical Technician                      891\n",
       "Attorney                                866\n",
       "Food Service                            837\n",
       "Military Enlisted                       824\n",
       "Tradesman - Mechanic                    797\n",
       "Social Worker                           575\n",
       "Postal Service                          487\n",
       "Professor                               452\n",
       "Nurse (LPN)                             416\n",
       "Doctor                                  393\n",
       "Tradesman - Electrician                 385\n",
       "Nurse's Aide                            382\n",
       "Fireman                                 319\n",
       "Waiter/Waitress                         294\n",
       "Scientist                               292\n",
       "Principal                               262\n",
       "Realtor                                 252\n",
       "Military Officer                        252\n",
       "Bus Driver                              250\n",
       "Pharmacist                              225\n",
       "Investor                                201\n",
       "Teacher's Aide                          200\n",
       "Engineer - Chemical                     176\n",
       "Landscaping                             172\n",
       "Clergy                                  157\n",
       "Pilot - Private/Commercial              153\n",
       "Architect                               149\n",
       "Car Dealer                              143\n",
       "Psychologist                            118\n",
       "Student - College Graduate Student      112\n",
       "Chemist                                 109\n",
       "Biologist                                95\n",
       "Religious                                93\n",
       "Flight Attendant                         87\n",
       "Tradesman - Carpenter                    85\n",
       "Tradesman - Plumber                      74\n",
       "Student - College Senior                 70\n",
       "Homemaker                                57\n",
       "Dentist                                  56\n",
       "Student - College Junior                 27\n",
       "Judge                                    22\n",
       "Student - College Freshman               17\n",
       "Student - College Sophomore              16\n",
       "Student - Community College              10\n",
       "Student - Technical School                2\n",
       "Name: Occupation, dtype: int64"
      ]
     },
     "execution_count": 157,
     "metadata": {},
     "output_type": "execute_result"
    }
   ],
   "source": [
    "loan.Occupation.value_counts()"
   ]
  },
  {
   "cell_type": "code",
   "execution_count": 158,
   "metadata": {
    "slideshow": {
     "slide_type": "skip"
    }
   },
   "outputs": [],
   "source": [
    "loan['DebtToIncomeRatio'].fillna(loan['DebtToIncomeRatio'].mean(), inplace = True)\n",
    "loan['Occupation'].fillna('Other', inplace = True)"
   ]
  },
  {
   "cell_type": "code",
   "execution_count": 159,
   "metadata": {
    "slideshow": {
     "slide_type": "skip"
    }
   },
   "outputs": [
    {
     "data": {
      "text/plain": [
       "Other                                 22650\n",
       "Professional                          10542\n",
       "Executive                              3468\n",
       "Computer Programmer                    3236\n",
       "Teacher                                2888\n",
       "Analyst                                2735\n",
       "Administrative Assistant               2708\n",
       "Accountant/CPA                         2574\n",
       "Sales - Commission                     2350\n",
       "Skilled Labor                          2180\n",
       "Nurse (RN)                             2159\n",
       "Clerical                               2116\n",
       "Sales - Retail                         2029\n",
       "Retail Management                      2001\n",
       "Truck Driver                           1366\n",
       "Construction                           1326\n",
       "Police Officer/Correction Officer      1277\n",
       "Laborer                                1217\n",
       "Civil Service                          1139\n",
       "Engineer - Mechanical                  1135\n",
       "Food Service Management                1005\n",
       "Engineer - Electrical                   900\n",
       "Medical Technician                      891\n",
       "Attorney                                866\n",
       "Food Service                            837\n",
       "Military Enlisted                       824\n",
       "Tradesman - Mechanic                    797\n",
       "Social Worker                           575\n",
       "Postal Service                          487\n",
       "Professor                               452\n",
       "Nurse (LPN)                             416\n",
       "Doctor                                  393\n",
       "Tradesman - Electrician                 385\n",
       "Nurse's Aide                            382\n",
       "Fireman                                 319\n",
       "Waiter/Waitress                         294\n",
       "Scientist                               292\n",
       "Principal                               262\n",
       "Realtor                                 252\n",
       "Military Officer                        252\n",
       "Bus Driver                              250\n",
       "Pharmacist                              225\n",
       "Investor                                201\n",
       "Teacher's Aide                          200\n",
       "Engineer - Chemical                     176\n",
       "Landscaping                             172\n",
       "Clergy                                  157\n",
       "Pilot - Private/Commercial              153\n",
       "Architect                               149\n",
       "Car Dealer                              143\n",
       "Psychologist                            118\n",
       "Student - College Graduate Student      112\n",
       "Chemist                                 109\n",
       "Biologist                                95\n",
       "Religious                                93\n",
       "Flight Attendant                         87\n",
       "Tradesman - Carpenter                    85\n",
       "Tradesman - Plumber                      74\n",
       "Student - College Senior                 70\n",
       "Homemaker                                57\n",
       "Dentist                                  56\n",
       "Student - College Junior                 27\n",
       "Judge                                    22\n",
       "Student - College Freshman               17\n",
       "Student - College Sophomore              16\n",
       "Student - Community College              10\n",
       "Student - Technical School                2\n",
       "Name: Occupation, dtype: int64"
      ]
     },
     "execution_count": 159,
     "metadata": {},
     "output_type": "execute_result"
    }
   ],
   "source": [
    "loan.Occupation.value_counts()"
   ]
  },
  {
   "cell_type": "code",
   "execution_count": 160,
   "metadata": {
    "slideshow": {
     "slide_type": "skip"
    }
   },
   "outputs": [
    {
     "data": {
      "text/plain": [
       "LoanOriginalAmount           0\n",
       "LoanStatus                   0\n",
       "ListingCategory (numeric)    0\n",
       "BorrowerAPR                  0\n",
       "BorrowerRate                 0\n",
       "StatedMonthlyIncome          0\n",
       "ProsperScore                 0\n",
       "Occupation                   0\n",
       "IsBorrowerHomeowner          0\n",
       "Term                         0\n",
       "EmploymentStatus             0\n",
       "TotalInquiries               0\n",
       "DebtToIncomeRatio            0\n",
       "MonthlyLoanPayment           0\n",
       "TotalTrades                  0\n",
       "Investors                    0\n",
       "AvailableBankcardCredit      0\n",
       "CreditScoreRangeLower        0\n",
       "CreditScoreRangeUpper        0\n",
       "dtype: int64"
      ]
     },
     "execution_count": 160,
     "metadata": {},
     "output_type": "execute_result"
    }
   ],
   "source": [
    "loan.isnull().sum()"
   ]
  },
  {
   "cell_type": "code",
   "execution_count": 161,
   "metadata": {
    "slideshow": {
     "slide_type": "skip"
    }
   },
   "outputs": [
    {
     "data": {
      "text/html": [
       "<div>\n",
       "<style scoped>\n",
       "    .dataframe tbody tr th:only-of-type {\n",
       "        vertical-align: middle;\n",
       "    }\n",
       "\n",
       "    .dataframe tbody tr th {\n",
       "        vertical-align: top;\n",
       "    }\n",
       "\n",
       "    .dataframe thead th {\n",
       "        text-align: right;\n",
       "    }\n",
       "</style>\n",
       "<table border=\"1\" class=\"dataframe\">\n",
       "  <thead>\n",
       "    <tr style=\"text-align: right;\">\n",
       "      <th></th>\n",
       "      <th>LoanOriginalAmount</th>\n",
       "      <th>LoanStatus</th>\n",
       "      <th>ListingCategory (numeric)</th>\n",
       "      <th>BorrowerAPR</th>\n",
       "      <th>BorrowerRate</th>\n",
       "      <th>StatedMonthlyIncome</th>\n",
       "      <th>ProsperScore</th>\n",
       "      <th>Occupation</th>\n",
       "      <th>IsBorrowerHomeowner</th>\n",
       "      <th>Term</th>\n",
       "      <th>EmploymentStatus</th>\n",
       "      <th>TotalInquiries</th>\n",
       "      <th>DebtToIncomeRatio</th>\n",
       "      <th>MonthlyLoanPayment</th>\n",
       "      <th>TotalTrades</th>\n",
       "      <th>Investors</th>\n",
       "      <th>AvailableBankcardCredit</th>\n",
       "      <th>CreditScoreRangeLower</th>\n",
       "      <th>CreditScoreRangeUpper</th>\n",
       "      <th>CreditScoreRange</th>\n",
       "    </tr>\n",
       "  </thead>\n",
       "  <tbody>\n",
       "    <tr>\n",
       "      <th>1</th>\n",
       "      <td>10000</td>\n",
       "      <td>Current</td>\n",
       "      <td>2</td>\n",
       "      <td>0.12016</td>\n",
       "      <td>0.0920</td>\n",
       "      <td>6125.000000</td>\n",
       "      <td>7.0</td>\n",
       "      <td>Professional</td>\n",
       "      <td>False</td>\n",
       "      <td>36</td>\n",
       "      <td>Employed</td>\n",
       "      <td>5.0</td>\n",
       "      <td>0.18</td>\n",
       "      <td>318.93</td>\n",
       "      <td>29.0</td>\n",
       "      <td>1</td>\n",
       "      <td>10266.0</td>\n",
       "      <td>680.0</td>\n",
       "      <td>699.0</td>\n",
       "      <td>689.5</td>\n",
       "    </tr>\n",
       "    <tr>\n",
       "      <th>3</th>\n",
       "      <td>10000</td>\n",
       "      <td>Current</td>\n",
       "      <td>16</td>\n",
       "      <td>0.12528</td>\n",
       "      <td>0.0974</td>\n",
       "      <td>2875.000000</td>\n",
       "      <td>9.0</td>\n",
       "      <td>Skilled Labor</td>\n",
       "      <td>True</td>\n",
       "      <td>36</td>\n",
       "      <td>Employed</td>\n",
       "      <td>1.0</td>\n",
       "      <td>0.15</td>\n",
       "      <td>321.45</td>\n",
       "      <td>26.0</td>\n",
       "      <td>158</td>\n",
       "      <td>30754.0</td>\n",
       "      <td>800.0</td>\n",
       "      <td>819.0</td>\n",
       "      <td>809.5</td>\n",
       "    </tr>\n",
       "    <tr>\n",
       "      <th>4</th>\n",
       "      <td>15000</td>\n",
       "      <td>Current</td>\n",
       "      <td>2</td>\n",
       "      <td>0.24614</td>\n",
       "      <td>0.2085</td>\n",
       "      <td>9583.333333</td>\n",
       "      <td>4.0</td>\n",
       "      <td>Executive</td>\n",
       "      <td>True</td>\n",
       "      <td>36</td>\n",
       "      <td>Employed</td>\n",
       "      <td>9.0</td>\n",
       "      <td>0.26</td>\n",
       "      <td>563.97</td>\n",
       "      <td>39.0</td>\n",
       "      <td>20</td>\n",
       "      <td>695.0</td>\n",
       "      <td>680.0</td>\n",
       "      <td>699.0</td>\n",
       "      <td>689.5</td>\n",
       "    </tr>\n",
       "    <tr>\n",
       "      <th>5</th>\n",
       "      <td>15000</td>\n",
       "      <td>Current</td>\n",
       "      <td>1</td>\n",
       "      <td>0.15425</td>\n",
       "      <td>0.1314</td>\n",
       "      <td>8333.333333</td>\n",
       "      <td>10.0</td>\n",
       "      <td>Professional</td>\n",
       "      <td>True</td>\n",
       "      <td>60</td>\n",
       "      <td>Employed</td>\n",
       "      <td>2.0</td>\n",
       "      <td>0.36</td>\n",
       "      <td>342.37</td>\n",
       "      <td>47.0</td>\n",
       "      <td>1</td>\n",
       "      <td>86509.0</td>\n",
       "      <td>740.0</td>\n",
       "      <td>759.0</td>\n",
       "      <td>749.5</td>\n",
       "    </tr>\n",
       "    <tr>\n",
       "      <th>6</th>\n",
       "      <td>3000</td>\n",
       "      <td>Current</td>\n",
       "      <td>1</td>\n",
       "      <td>0.31032</td>\n",
       "      <td>0.2712</td>\n",
       "      <td>2083.333333</td>\n",
       "      <td>2.0</td>\n",
       "      <td>Sales - Retail</td>\n",
       "      <td>False</td>\n",
       "      <td>36</td>\n",
       "      <td>Employed</td>\n",
       "      <td>0.0</td>\n",
       "      <td>0.27</td>\n",
       "      <td>122.67</td>\n",
       "      <td>16.0</td>\n",
       "      <td>1</td>\n",
       "      <td>1929.0</td>\n",
       "      <td>680.0</td>\n",
       "      <td>699.0</td>\n",
       "      <td>689.5</td>\n",
       "    </tr>\n",
       "  </tbody>\n",
       "</table>\n",
       "</div>"
      ],
      "text/plain": [
       "   LoanOriginalAmount LoanStatus  ListingCategory (numeric)  BorrowerAPR  \\\n",
       "1               10000    Current                          2      0.12016   \n",
       "3               10000    Current                         16      0.12528   \n",
       "4               15000    Current                          2      0.24614   \n",
       "5               15000    Current                          1      0.15425   \n",
       "6                3000    Current                          1      0.31032   \n",
       "\n",
       "   BorrowerRate  StatedMonthlyIncome  ProsperScore      Occupation  \\\n",
       "1        0.0920          6125.000000           7.0    Professional   \n",
       "3        0.0974          2875.000000           9.0   Skilled Labor   \n",
       "4        0.2085          9583.333333           4.0       Executive   \n",
       "5        0.1314          8333.333333          10.0    Professional   \n",
       "6        0.2712          2083.333333           2.0  Sales - Retail   \n",
       "\n",
       "   IsBorrowerHomeowner  Term EmploymentStatus  TotalInquiries  \\\n",
       "1                False    36         Employed             5.0   \n",
       "3                 True    36         Employed             1.0   \n",
       "4                 True    36         Employed             9.0   \n",
       "5                 True    60         Employed             2.0   \n",
       "6                False    36         Employed             0.0   \n",
       "\n",
       "   DebtToIncomeRatio  MonthlyLoanPayment  TotalTrades  Investors  \\\n",
       "1               0.18              318.93         29.0          1   \n",
       "3               0.15              321.45         26.0        158   \n",
       "4               0.26              563.97         39.0         20   \n",
       "5               0.36              342.37         47.0          1   \n",
       "6               0.27              122.67         16.0          1   \n",
       "\n",
       "   AvailableBankcardCredit  CreditScoreRangeLower  CreditScoreRangeUpper  \\\n",
       "1                  10266.0                  680.0                  699.0   \n",
       "3                  30754.0                  800.0                  819.0   \n",
       "4                    695.0                  680.0                  699.0   \n",
       "5                  86509.0                  740.0                  759.0   \n",
       "6                   1929.0                  680.0                  699.0   \n",
       "\n",
       "   CreditScoreRange  \n",
       "1             689.5  \n",
       "3             809.5  \n",
       "4             689.5  \n",
       "5             749.5  \n",
       "6             689.5  "
      ]
     },
     "execution_count": 161,
     "metadata": {},
     "output_type": "execute_result"
    }
   ],
   "source": [
    "loan['CreditScoreRange'] = loan[['CreditScoreRangeLower', 'CreditScoreRangeUpper']].mean(axis=1)\n",
    "loan.head()"
   ]
  },
  {
   "cell_type": "code",
   "execution_count": 162,
   "metadata": {
    "slideshow": {
     "slide_type": "skip"
    }
   },
   "outputs": [],
   "source": [
    "loan.drop(['CreditScoreRangeLower', 'CreditScoreRangeUpper'], axis = 1, inplace = True)"
   ]
  },
  {
   "cell_type": "markdown",
   "metadata": {
    "slideshow": {
     "slide_type": "skip"
    }
   },
   "source": [
    "## Univariate Exploration\n",
    "\n",
    "> In this section, investigate distributions of individual variables. If\n",
    "you see unusual points or outliers, take a deeper look to clean things up\n",
    "and prepare yourself to look at relationships between variables.\n"
   ]
  },
  {
   "cell_type": "code",
   "execution_count": 163,
   "metadata": {
    "slideshow": {
     "slide_type": "skip"
    }
   },
   "outputs": [
    {
     "data": {
      "text/html": [
       "<div>\n",
       "<style scoped>\n",
       "    .dataframe tbody tr th:only-of-type {\n",
       "        vertical-align: middle;\n",
       "    }\n",
       "\n",
       "    .dataframe tbody tr th {\n",
       "        vertical-align: top;\n",
       "    }\n",
       "\n",
       "    .dataframe thead th {\n",
       "        text-align: right;\n",
       "    }\n",
       "</style>\n",
       "<table border=\"1\" class=\"dataframe\">\n",
       "  <thead>\n",
       "    <tr style=\"text-align: right;\">\n",
       "      <th></th>\n",
       "      <th>LoanOriginalAmount</th>\n",
       "      <th>LoanStatus</th>\n",
       "      <th>ListingCategory (numeric)</th>\n",
       "      <th>BorrowerAPR</th>\n",
       "      <th>BorrowerRate</th>\n",
       "      <th>StatedMonthlyIncome</th>\n",
       "      <th>ProsperScore</th>\n",
       "      <th>Occupation</th>\n",
       "      <th>IsBorrowerHomeowner</th>\n",
       "      <th>Term</th>\n",
       "      <th>EmploymentStatus</th>\n",
       "      <th>TotalInquiries</th>\n",
       "      <th>DebtToIncomeRatio</th>\n",
       "      <th>MonthlyLoanPayment</th>\n",
       "      <th>TotalTrades</th>\n",
       "      <th>Investors</th>\n",
       "      <th>AvailableBankcardCredit</th>\n",
       "      <th>CreditScoreRange</th>\n",
       "    </tr>\n",
       "  </thead>\n",
       "  <tbody>\n",
       "    <tr>\n",
       "      <th>1</th>\n",
       "      <td>10000</td>\n",
       "      <td>Current</td>\n",
       "      <td>2</td>\n",
       "      <td>0.12016</td>\n",
       "      <td>0.0920</td>\n",
       "      <td>6125.0</td>\n",
       "      <td>7.0</td>\n",
       "      <td>Professional</td>\n",
       "      <td>False</td>\n",
       "      <td>36</td>\n",
       "      <td>Employed</td>\n",
       "      <td>5.0</td>\n",
       "      <td>0.18</td>\n",
       "      <td>318.93</td>\n",
       "      <td>29.0</td>\n",
       "      <td>1</td>\n",
       "      <td>10266.0</td>\n",
       "      <td>689.5</td>\n",
       "    </tr>\n",
       "    <tr>\n",
       "      <th>3</th>\n",
       "      <td>10000</td>\n",
       "      <td>Current</td>\n",
       "      <td>16</td>\n",
       "      <td>0.12528</td>\n",
       "      <td>0.0974</td>\n",
       "      <td>2875.0</td>\n",
       "      <td>9.0</td>\n",
       "      <td>Skilled Labor</td>\n",
       "      <td>True</td>\n",
       "      <td>36</td>\n",
       "      <td>Employed</td>\n",
       "      <td>1.0</td>\n",
       "      <td>0.15</td>\n",
       "      <td>321.45</td>\n",
       "      <td>26.0</td>\n",
       "      <td>158</td>\n",
       "      <td>30754.0</td>\n",
       "      <td>809.5</td>\n",
       "    </tr>\n",
       "  </tbody>\n",
       "</table>\n",
       "</div>"
      ],
      "text/plain": [
       "   LoanOriginalAmount LoanStatus  ListingCategory (numeric)  BorrowerAPR  \\\n",
       "1               10000    Current                          2      0.12016   \n",
       "3               10000    Current                         16      0.12528   \n",
       "\n",
       "   BorrowerRate  StatedMonthlyIncome  ProsperScore     Occupation  \\\n",
       "1        0.0920               6125.0           7.0   Professional   \n",
       "3        0.0974               2875.0           9.0  Skilled Labor   \n",
       "\n",
       "   IsBorrowerHomeowner  Term EmploymentStatus  TotalInquiries  \\\n",
       "1                False    36         Employed             5.0   \n",
       "3                 True    36         Employed             1.0   \n",
       "\n",
       "   DebtToIncomeRatio  MonthlyLoanPayment  TotalTrades  Investors  \\\n",
       "1               0.18              318.93         29.0          1   \n",
       "3               0.15              321.45         26.0        158   \n",
       "\n",
       "   AvailableBankcardCredit  CreditScoreRange  \n",
       "1                  10266.0             689.5  \n",
       "3                  30754.0             809.5  "
      ]
     },
     "execution_count": 163,
     "metadata": {},
     "output_type": "execute_result"
    }
   ],
   "source": [
    "loan.head(2)"
   ]
  },
  {
   "cell_type": "code",
   "execution_count": 164,
   "metadata": {
    "slideshow": {
     "slide_type": "skip"
    }
   },
   "outputs": [
    {
     "data": {
      "image/png": "[encoded data removed]",
      "text/plain": [
       "<Figure size 576x360 with 1 Axes>"
      ]
     },
     "metadata": {
      "needs_background": "light"
     },
     "output_type": "display_data"
    }
   ],
   "source": [
    "# distribution of DebtToIncomeRatio \n",
    "plt.figure(figsize=[8, 5])\n",
    "plt.hist(data = loan, x = 'CreditScoreRange')\n",
    "plt.xticks([550, 600, 700, 800, 900], rotation = 45)\n",
    "plt.xlabel('CreditScoreRange')\n",
    "plt.ylabel('Number of Borrowers')\n",
    "plt.title('distribution of DebtToIncomeRatio')\n",
    "plt.show();"
   ]
  },
  {
   "cell_type": "markdown",
   "metadata": {
    "slideshow": {
     "slide_type": "skip"
    }
   },
   "source": [
    "<p> THe Credit score range is noramlly distributed "
   ]
  },
  {
   "cell_type": "code",
   "execution_count": 165,
   "metadata": {
    "slideshow": {
     "slide_type": "slide"
    }
   },
   "outputs": [
    {
     "data": {
      "image/png": "[encoded data removed]",
      "text/plain": [
       "<Figure size 432x288 with 1 Axes>"
      ]
     },
     "metadata": {
      "needs_background": "light"
     },
     "output_type": "display_data"
    }
   ],
   "source": [
    "sb.countplot(data = loan, x = 'LoanStatus', color = base_color, order = loan.LoanStatus.value_counts().index)\n",
    "plt.xlabel('Loan Status')\n",
    "plt.ylabel('Count of each loan type')\n",
    "plt.title('Count of each loan status')\n",
    "plt.xticks(rotation = 90) # Rotates X-Axis Ticks by 45-degrees\n",
    "plt.show();"
   ]
  },
  {
   "cell_type": "markdown",
   "metadata": {
    "slideshow": {
     "slide_type": "subslide"
    }
   },
   "source": [
    "<p> Most of the loan in the data set are currently running"
   ]
  },
  {
   "cell_type": "code",
   "execution_count": 166,
   "metadata": {
    "slideshow": {
     "slide_type": "slide"
    }
   },
   "outputs": [
    {
     "data": {
      "image/png": "[encoded data removed]",
      "text/plain": [
       "<Figure size 432x288 with 1 Axes>"
      ]
     },
     "metadata": {
      "needs_background": "light"
     },
     "output_type": "display_data"
    }
   ],
   "source": [
    "sb.countplot(data = loan, x = 'EmploymentStatus', color = base_color, order = loan.EmploymentStatus.value_counts().index)\n",
    "plt.xlabel('EmploymentStatus')\n",
    "plt.ylabel('Count of each Employment type')\n",
    "plt.title('Count of each EmploymentStatus')\n",
    "plt.xticks(rotation = 90) # Rotates X-Axis Ticks by 45-degrees\n",
    "plt.show();"
   ]
  },
  {
   "cell_type": "markdown",
   "metadata": {
    "slideshow": {
     "slide_type": "subslide"
    }
   },
   "source": [
    "<p>From this plot we could get an insigth that most of the borrowers are from the full timee employee which give some insgith that the normal 9-5 work is not enough to bring the finanical stability and more people going to loans"
   ]
  },
  {
   "cell_type": "code",
   "execution_count": 167,
   "metadata": {
    "slideshow": {
     "slide_type": "slide"
    }
   },
   "outputs": [
    {
     "data": {
      "image/png": "[encoded data removed]",
      "text/plain": [
       "<Figure size 432x288 with 1 Axes>"
      ]
     },
     "metadata": {
      "needs_background": "light"
     },
     "output_type": "display_data"
    }
   ],
   "source": [
    "occu_loan = loan.Occupation.value_counts()[:10].plot(kind = 'bar')\n",
    "plt.xlabel('Occupation')\n",
    "plt.ylabel('Count of each Occuptaion')\n",
    "plt.title('Count of each Occuptaion Status')\n",
    "plt.xticks(rotation = 90) # Rotates X-Axis Ticks by 45-degrees\n",
    "plt.show();"
   ]
  },
  {
   "cell_type": "markdown",
   "metadata": {
    "slideshow": {
     "slide_type": "subslide"
    }
   },
   "source": [
    "<p> From the previous plot we could extract that most borrowers decide not to reveal their occupation... either in other or professional category, the perception of ther occupation are similar"
   ]
  },
  {
   "cell_type": "code",
   "execution_count": 170,
   "metadata": {
    "slideshow": {
     "slide_type": "skip"
    }
   },
   "outputs": [
    {
     "data": {
      "image/png": "[encoded data removed]",
      "text/plain": [
       "<Figure size 640x480 with 1 Axes>"
      ]
     },
     "metadata": {
      "needs_background": "light"
     },
     "output_type": "display_data"
    }
   ],
   "source": [
    "plt.figure(figsize=(8, 6), dpi=80)\n",
    "\n",
    "sb.countplot(data = loan, x = 'IsBorrowerHomeowner', color = base_color, order = loan.IsBorrowerHomeowner.value_counts().index)\n",
    "plt.show();"
   ]
  },
  {
   "cell_type": "markdown",
   "metadata": {
    "slideshow": {
     "slide_type": "skip"
    }
   },
   "source": [
    "<p> The number of borrowers whether own home or not are nearly similar"
   ]
  },
  {
   "cell_type": "code",
   "execution_count": 172,
   "metadata": {
    "slideshow": {
     "slide_type": "slide"
    }
   },
   "outputs": [
    {
     "data": {
      "image/png": "[encoded data removed]",
      "text/plain": [
       "<Figure size 576x360 with 1 Axes>"
      ]
     },
     "metadata": {
      "needs_background": "light"
     },
     "output_type": "display_data"
    }
   ],
   "source": [
    "# distribution of DebtToIncomeRatio \n",
    "bins = np.arange(0,1, 0.03)\n",
    "plt.figure(figsize=[8, 5])\n",
    "plt.hist(data = loan, x = 'DebtToIncomeRatio', bins = bins)\n",
    "plt.xticks([0, 0.2, 0.4, 0.6, 0.8, 1], rotation = 45)\n",
    "plt.xlabel('DebtToIncomeRatio')\n",
    "plt.ylabel('Number of Borrowers')\n",
    "plt.title('Distribution of debt to income ratio over the borrowers')\n",
    "plt.show();"
   ]
  },
  {
   "cell_type": "markdown",
   "metadata": {
    "slideshow": {
     "slide_type": "subslide"
    }
   },
   "source": [
    "<p>The previous plot is right skewed as most of the borrowers had 20% of their income as debt"
   ]
  },
  {
   "cell_type": "code",
   "execution_count": 174,
   "metadata": {
    "slideshow": {
     "slide_type": "slide"
    }
   },
   "outputs": [
    {
     "data": {
      "image/png": "[encoded data removed]",
      "text/plain": [
       "<Figure size 576x360 with 1 Axes>"
      ]
     },
     "metadata": {
      "needs_background": "light"
     },
     "output_type": "display_data"
    }
   ],
   "source": [
    "# Distribution of stated monthly income\n",
    "plt.figure(figsize=[8, 5])\n",
    "bins_smi = np.arange(0, 50000, 500)\n",
    "plt.hist(data = loan, x = 'StatedMonthlyIncome', bins=bins_smi)\n",
    "plt.xlabel('StatedMonthlyIncome')\n",
    "plt.ylabel('Count')\n",
    "plt.title('Distribution of monthly income for the borrowers')\n",
    "plt.show();"
   ]
  },
  {
   "cell_type": "markdown",
   "metadata": {
    "slideshow": {
     "slide_type": "subslide"
    }
   },
   "source": [
    "<p> From the previous plot, it is obvious that most of the borrowers have less than 12000 monthly income"
   ]
  },
  {
   "cell_type": "code",
   "execution_count": 175,
   "metadata": {
    "slideshow": {
     "slide_type": "skip"
    }
   },
   "outputs": [],
   "source": [
    "numerics = ['int16', 'int32', 'int64','float']\n",
    "loan_df = loan.select_dtypes(include=numerics)\n",
    "num_cols = loan_df.columns"
   ]
  },
  {
   "cell_type": "code",
   "execution_count": 176,
   "metadata": {
    "scrolled": true,
    "slideshow": {
     "slide_type": "skip"
    }
   },
   "outputs": [
    {
     "data": {
      "image/png": "[encoded data removed]",
      "text/plain": [
       "<Figure size 1080x1080 with 1 Axes>"
      ]
     },
     "metadata": {
      "needs_background": "light"
     },
     "output_type": "display_data"
    }
   ],
   "source": [
    "fig, ax = plt.subplots(figsize=(15,15))\n",
    "sb.heatmap(loan[num_cols].corr(), annot = True, linewidth = 5, cmap=\"YlGnBu\", cbar = False)\n",
    "plt.title('Correlation between all features')\n",
    "plt.show();"
   ]
  },
  {
   "cell_type": "markdown",
   "metadata": {
    "slideshow": {
     "slide_type": "fragment"
    }
   },
   "source": [
    "<p> From the heatmap:\n",
    "<ol>\n",
    "    <li>High positive correlation between the loan amount and monthly payment</li>\n",
    "    <li>Moderate positive correlation between the availablebank credit card and creditscorerange</li>\n",
    "    <li>Moderate -ve correlation between the prosper score and the borooweAPR and rate</li>\n",
    "    <li>Moderate -ve correlation between the CreditScoreRange and the borooweAPR and rate</li>\n",
    "    <li>Moderate -ve correlation between the Loan original amount and the borrower APR and rate</li>\n",
    "</ol>"
   ]
  },
  {
   "cell_type": "code",
   "execution_count": 177,
   "metadata": {
    "slideshow": {
     "slide_type": "skip"
    }
   },
   "outputs": [
    {
     "data": {
      "image/png": "[encoded data removed]",
      "text/plain": [
       "<Figure size 432x288 with 1 Axes>"
      ]
     },
     "metadata": {
      "needs_background": "light"
     },
     "output_type": "display_data"
    }
   ],
   "source": [
    "# data setup\n",
    "fig, ax = plt.subplots()\n",
    "ax.scatter(data = loan, x = 'ProsperScore', y = 'BorrowerAPR', alpha = 1/8, s=0.7)\n",
    "ax.legend()\n",
    "\n",
    "T=np.arange(0, 0.5, 0.02)\n",
    "ax.set_yticks(T)\n",
    "\n",
    "ax.set_xlabel('ProsperScore')\n",
    "ax.set_ylabel('BorroweAPR')\n",
    "ax.set_title('ProperScore vs thje borrowerAPR')\n",
    "plt.show();"
   ]
  },
  {
   "cell_type": "code",
   "execution_count": 178,
   "metadata": {
    "slideshow": {
     "slide_type": "slide"
    }
   },
   "outputs": [
    {
     "data": {
      "image/png": "[encoded data removed]",
      "text/plain": [
       "<Figure size 432x288 with 1 Axes>"
      ]
     },
     "metadata": {
      "needs_background": "light"
     },
     "output_type": "display_data"
    }
   ],
   "source": [
    "sb.boxplot(data = loan, x = 'ProsperScore', y = 'BorrowerAPR')\n",
    "plt.xticks(rotation = 90)\n",
    "plt.title('Relation between ProsperScore and BorrowerAPR')\n",
    "plt.show();"
   ]
  },
  {
   "cell_type": "markdown",
   "metadata": {
    "slideshow": {
     "slide_type": "subslide"
    }
   },
   "source": [
    "<p> From  the previous plot,  it is obvious that Prosperscore ioncrease the BorroweAPR decreases as result to the trust of the borrowe"
   ]
  },
  {
   "cell_type": "code",
   "execution_count": 179,
   "metadata": {
    "slideshow": {
     "slide_type": "slide"
    }
   },
   "outputs": [
    {
     "data": {
      "image/png": "[encoded data removed]",
      "text/plain": [
       "<Figure size 432x288 with 1 Axes>"
      ]
     },
     "metadata": {
      "needs_background": "light"
     },
     "output_type": "display_data"
    }
   ],
   "source": [
    "sb.boxplot(data = loan, x = 'CreditScoreRange', y = 'ProsperScore')\n",
    "plt.xticks(rotation = 90)\n",
    "plt.title('Relation between CreditScoreRange and ProsperScore')\n",
    "plt.show();"
   ]
  },
  {
   "cell_type": "markdown",
   "metadata": {
    "slideshow": {
     "slide_type": "subslide"
    }
   },
   "source": [
    "<p> From  the previous plot,  it is obvious that CreditScore range increase the ProsperScore increasess as result to the trust of the borrowers\n",
    "As the credit score increase the trut in the client increases"
   ]
  },
  {
   "cell_type": "code",
   "execution_count": 180,
   "metadata": {
    "slideshow": {
     "slide_type": "slide"
    }
   },
   "outputs": [
    {
     "data": {
      "image/png": "[encoded data removed]",
      "text/plain": [
       "<Figure size 432x288 with 1 Axes>"
      ]
     },
     "metadata": {
      "needs_background": "light"
     },
     "output_type": "display_data"
    }
   ],
   "source": [
    "sb.boxplot(data = loan, x = 'CreditScoreRange', y = 'BorrowerAPR')\n",
    "plt.xticks(rotation = 90)\n",
    "plt.title('Relation between CreditScoreRange and BorrowerAPR')\n",
    "plt.show();"
   ]
  },
  {
   "cell_type": "markdown",
   "metadata": {
    "slideshow": {
     "slide_type": "subslide"
    }
   },
   "source": [
    "<p> From  the previous plot,  it is obvious that CreditScore range increase the BorroweAPR decreases as result to the trust of the borrowers\n",
    "As the credit score increase the trust in the client increases and the APR score decreases"
   ]
  },
  {
   "cell_type": "code",
   "execution_count": 181,
   "metadata": {
    "slideshow": {
     "slide_type": "slide"
    }
   },
   "outputs": [
    {
     "data": {
      "image/png": "[encoded data removed]",
      "text/plain": [
       "<Figure size 432x288 with 1 Axes>"
      ]
     },
     "metadata": {
      "needs_background": "light"
     },
     "output_type": "display_data"
    }
   ],
   "source": [
    "sb.boxplot(data = loan, x = 'CreditScoreRange', y = 'AvailableBankcardCredit')\n",
    "plt.xticks(rotation = 90)\n",
    "plt.title('The relation between the available credit and the crdit score')\n",
    "plt.show();"
   ]
  },
  {
   "cell_type": "markdown",
   "metadata": {
    "slideshow": {
     "slide_type": "subslide"
    }
   },
   "source": [
    "<p> From  the previous plot,  it is obvious that As tha available bank credit increase the CreditScore range increase as result to the trust of the borrowers\n",
    "As the credit score increase the trust in the client increases and the APR score decreases"
   ]
  },
  {
   "cell_type": "markdown",
   "metadata": {
    "slideshow": {
     "slide_type": "skip"
    }
   },
   "source": [
    "### Talk about some of the relationships you observed in this part of the investigation. How did the feature(s) of interest vary with other features in the dataset?\n",
    "\n",
    "First of all, the correlation does not mean causation, just a factor to be further investigated using the A/B testing to decide whether a factor affects the final result.\n",
    "\n",
    "The individuals with high creditscorerange average and available abnk credit have a higher prosperscore.\n",
    "\n",
    "The borrower APR is negatively correlated with the loan original amount, which mean the more the loan amount, the lower the APR.\n",
    "\n",
    "\n",
    "### Did you observe any interesting relationships between the other features (not the main feature(s) of interest)?\n",
    "\n",
    "The credit score and the availabilioty of bank credit have a relation with prosper score and need further investigation"
   ]
  },
  {
   "cell_type": "markdown",
   "metadata": {
    "slideshow": {
     "slide_type": "skip"
    }
   },
   "source": [
    "## Multivariate Exploration\n",
    "\n",
    "> Create plots of three or more variables to investigate your data even\n",
    "further. Make sure that your investigations are justified, and follow from\n",
    "your work in the previous sections.\n",
    "\n",
    "> I will examine the correlation form the heat map\n",
    "\n",
    "><ol>\n",
    "    <li>High positive correlation between the loan amount and monthly payment</li>\n",
    "    <li>Moderate positive correlation between the availablebank credit card and creditscorerange</li>\n",
    "    <li>Moderate -ve correlation between the prosper score and the borooweAPR and rate</li>\n",
    "    <li>Moderate -ve correlation between the CreditScoreRange and the borooweAPR and rate</li>\n",
    "    <li>Moderate -ve correlation between the Loan original amount and the borrower APR and rate</li>\n",
    "></ol>"
   ]
  },
  {
   "cell_type": "code",
   "execution_count": 182,
   "metadata": {
    "slideshow": {
     "slide_type": "skip"
    }
   },
   "outputs": [
    {
     "data": {
      "text/plain": [
       "Index(['LoanOriginalAmount', 'LoanStatus', 'ListingCategory (numeric)',\n",
       "       'BorrowerAPR', 'BorrowerRate', 'StatedMonthlyIncome', 'ProsperScore',\n",
       "       'Occupation', 'IsBorrowerHomeowner', 'Term', 'EmploymentStatus',\n",
       "       'TotalInquiries', 'DebtToIncomeRatio', 'MonthlyLoanPayment',\n",
       "       'TotalTrades', 'Investors', 'AvailableBankcardCredit',\n",
       "       'CreditScoreRange'],\n",
       "      dtype='object')"
      ]
     },
     "execution_count": 182,
     "metadata": {},
     "output_type": "execute_result"
    }
   ],
   "source": [
    "loan.columns"
   ]
  },
  {
   "cell_type": "code",
   "execution_count": null,
   "metadata": {
    "slideshow": {
     "slide_type": "skip"
    }
   },
   "outputs": [],
   "source": [
    "# Occupation effect on relationship of LoanOriginalAmount and MonthlyLoanPayment\n",
    "g=sb.FacetGrid(data= loan, aspect=1.2, height=5, col='Occupation', col_wrap=4)\n",
    "g.map(sb.histplot, 'LoanOriginalAmount', 'MonthlyLoanPayment')\n",
    "g.add_legend()\n",
    "plt.suptitle('distribution of montly loan payment based on Occupation'.title(), y = 1, weight = 'bold')\n",
    "#Optimize distance between subplots\n",
    "plt.tight_layout()\n",
    "\n",
    "plt.show();"
   ]
  },
  {
   "cell_type": "code",
   "execution_count": null,
   "metadata": {
    "slideshow": {
     "slide_type": "skip"
    }
   },
   "outputs": [],
   "source": [
    "<p> This plot show the distribution between the amount of loan and the monthly payment for each occupation category\n",
    "    \n",
    "    <p> Student are the less category to take loans with least monthly repay amount"
   ]
  },
  {
   "cell_type": "code",
   "execution_count": null,
   "metadata": {
    "slideshow": {
     "slide_type": "skip"
    }
   },
   "outputs": [],
   "source": [
    "# EmploymentStatus effect on relationship of LoanOriginalAmount and MonthlyLoanPayment\n",
    "g=sb.FacetGrid(data= loan, aspect=1.2, height=5, col='EmploymentStatus', col_wrap=4)\n",
    "g.map(sb.histplot, 'LoanOriginalAmount', 'MonthlyLoanPayment')\n",
    "plt.suptitle('distribution of montly loan payment based on EmploymentStatus'.title(), y = 1, weight = 'bold')\n",
    "#Optimize distance between subplots\n",
    "plt.tight_layout()\n",
    "g.add_legend()\n",
    "plt.show();"
   ]
  },
  {
   "cell_type": "code",
   "execution_count": null,
   "metadata": {
    "slideshow": {
     "slide_type": "skip"
    }
   },
   "outputs": [],
   "source": [
    "<p> This plot show the distribution between the amount of loan and the monthly payment for each Employment category\n",
    "    and it is obvious that unemployed and retired are taking less loans than the other categories and with least repayment amount"
   ]
  },
  {
   "cell_type": "code",
   "execution_count": null,
   "metadata": {
    "slideshow": {
     "slide_type": "skip"
    }
   },
   "outputs": [],
   "source": [
    "# Prosper score effect on relationship of APR and CreditScoreRange\n",
    "g=sb.FacetGrid(data=loan, aspect=1.2, height=5, col='ProsperScore', col_wrap=4)\n",
    "g.map(sb.histplot, 'CreditScoreRange', 'BorrowerAPR');\n",
    "plt.suptitle('distribution of BorrowerAPR based on ProsperScore'.title(), y = 1, weight = 'bold')\n",
    "g.add_legend()\n",
    "#Optimize distance between subplots\n",
    "plt.tight_layout()\n",
    "g.add_legend()\n",
    "plt.show();"
   ]
  },
  {
   "cell_type": "markdown",
   "metadata": {
    "slideshow": {
     "slide_type": "skip"
    }
   },
   "source": [
    "<p> the previous plot shopw that BorrowerAPR decrease when the credit sciore range increase while holding the prosper score constant\n",
    "taking into account that when the proepser score increaser the borrowerAPR decrease and the credit score increase which show the trust in the customers"
   ]
  },
  {
   "cell_type": "markdown",
   "metadata": {
    "slideshow": {
     "slide_type": "subslide"
    }
   },
   "source": [
    "### Talk about some of the relationships you observed in this part of the investigation. Were there features that strengthened each other in terms of looking at your feature(s) of interest?\n",
    "\n",
    "The multivariate visulaization is used to solidify the ideas and insights extracted in the bivariate visualization by inserting a thrid factor into the plot to the if the overall correlation is still valid or not and in my case it is still valid in most of the plots.\n",
    "\n",
    "### Were there any interesting or surprising interactions between features?\n",
    "\n",
    "I was not surprised by the result as they are as expected from the heatmap.\n",
    "\n",
    "<ol>\n",
    "    <li>High positive correlation between the loan amount and monthly payment</li>\n",
    "    <li>Moderate positive correlation between the availablebank credit card and creditscorerange</li>\n",
    "    <li>Moderate -ve correlation between the prosper score and the borooweAPR and rate</li>\n",
    "    <li>Moderate -ve correlation between the CreditScoreRange and the borooweAPR and rate</li>\n",
    "    <li>Moderate -ve correlation between the Loan original amount and the borrower APR and rate</li>\n",
    "</ol>"
   ]
  }
 ],
 "metadata": {
  "celltoolbar": "Slideshow",
  "kernelspec": {
   "display_name": "Python 3 (ipykernel)",
   "language": "python",
   "name": "python3"
  },
  "language_info": {
   "codemirror_mode": {
    "name": "ipython",
    "version": 3
   },
   "file_extension": ".py",
   "mimetype": "text/x-python",
   "name": "python",
   "nbconvert_exporter": "python",
   "pygments_lexer": "ipython3",
   "version": "3.9.5"
  }
 },
 "nbformat": 4,
 "nbformat_minor": 2
}
